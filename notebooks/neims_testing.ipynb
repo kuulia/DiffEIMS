{
 "cells": [
  {
   "cell_type": "code",
   "execution_count": 1,
   "id": "0fdca191",
   "metadata": {},
   "outputs": [],
   "source": [
    "import pickle as pkl\n",
    "import pandas as pd \n",
    "import numpy as np\n",
    "from tqdm import tqdm \n",
    "from rdkit.Chem import MolFromSmiles, rdFingerprintGenerator, MolToInchiKey, RemoveHs, AtomValenceException, Draw\n",
    "from rdkit.Chem.Draw import rdMolDraw2D\n",
    "from rdkit.Chem.Descriptors import ExactMolWt\n",
    "from rdkit.Chem.rdMolDescriptors import CalcMolFormula\n",
    "from rdkit.DataStructs import TanimotoSimilarity, ExplicitBitVect\n",
    "from rdkit.Chem import MolToMolBlock\n",
    "from rdkit.Chem import SanitizeMol\n",
    "from rdkit.Chem import MolToSmiles\n",
    "from rdkit.Chem import MolFromSmarts, ReplaceSubstructs\n",
    "from rdkit import Chem\n",
    "from PIL import Image, ImageChops\n",
    "from rdkit.Chem import Draw\n",
    "from PIL import Image, ImageDraw, ImageFont\n",
    "np.random.seed(seed=42)"
   ]
  },
  {
   "cell_type": "code",
   "execution_count": 2,
   "id": "5dd95bcf",
   "metadata": {},
   "outputs": [
    {
     "name": "stdout",
     "output_type": "stream",
     "text": [
      "(166158, 2)\n"
     ]
    },
    {
     "data": {
      "text/html": [
       "<div>\n",
       "<style scoped>\n",
       "    .dataframe tbody tr th:only-of-type {\n",
       "        vertical-align: middle;\n",
       "    }\n",
       "\n",
       "    .dataframe tbody tr th {\n",
       "        vertical-align: top;\n",
       "    }\n",
       "\n",
       "    .dataframe thead th {\n",
       "        text-align: right;\n",
       "    }\n",
       "</style>\n",
       "<table border=\"1\" class=\"dataframe\">\n",
       "  <thead>\n",
       "    <tr style=\"text-align: right;\">\n",
       "      <th></th>\n",
       "      <th>SMILES</th>\n",
       "      <th>spec</th>\n",
       "    </tr>\n",
       "  </thead>\n",
       "  <tbody>\n",
       "    <tr>\n",
       "      <th>0</th>\n",
       "      <td>C=O</td>\n",
       "      <td>[[14, 202], [15, 313], [16, 165], [18, 16], [1...</td>\n",
       "    </tr>\n",
       "    <tr>\n",
       "      <th>1</th>\n",
       "      <td>O=C[N+](=O)[O-]</td>\n",
       "      <td>[[14, 72], [16, 151], [17, 70], [18, 108], [19...</td>\n",
       "    </tr>\n",
       "    <tr>\n",
       "      <th>2</th>\n",
       "      <td>O=CC(=O)[N+](=O)[O-]</td>\n",
       "      <td>[[14, 153], [15, 174], [16, 125], [17, 36], [1...</td>\n",
       "    </tr>\n",
       "    <tr>\n",
       "      <th>3</th>\n",
       "      <td>O=C(O)C(=O)[N+](=O)[O-]</td>\n",
       "      <td>[[14, 120], [15, 236], [16, 149], [17, 78], [1...</td>\n",
       "    </tr>\n",
       "  </tbody>\n",
       "</table>\n",
       "</div>"
      ],
      "text/plain": [
       "                    SMILES                                               spec\n",
       "0                      C=O  [[14, 202], [15, 313], [16, 165], [18, 16], [1...\n",
       "1          O=C[N+](=O)[O-]  [[14, 72], [16, 151], [17, 70], [18, 108], [19...\n",
       "2     O=CC(=O)[N+](=O)[O-]  [[14, 153], [15, 174], [16, 125], [17, 36], [1...\n",
       "3  O=C(O)C(=O)[N+](=O)[O-]  [[14, 120], [15, 236], [16, 149], [17, 78], [1..."
      ]
     },
     "execution_count": 2,
     "metadata": {},
     "output_type": "execute_result"
    }
   ],
   "source": [
    "with open('../data/neims/spec_files/df_neims_gecko_3_9_22.pkl', 'rb') as file:\n",
    "    df1 = pkl.load(file)\n",
    "print(df1.shape)\n",
    "df1.head(4)"
   ]
  },
  {
   "cell_type": "code",
   "execution_count": 3,
   "id": "b494654a",
   "metadata": {},
   "outputs": [
    {
     "name": "stdout",
     "output_type": "stream",
     "text": [
      "(166158, 8)\n"
     ]
    },
    {
     "data": {
      "text/html": [
       "<div>\n",
       "<style scoped>\n",
       "    .dataframe tbody tr th:only-of-type {\n",
       "        vertical-align: middle;\n",
       "    }\n",
       "\n",
       "    .dataframe tbody tr th {\n",
       "        vertical-align: top;\n",
       "    }\n",
       "\n",
       "    .dataframe thead th {\n",
       "        text-align: right;\n",
       "    }\n",
       "</style>\n",
       "<table border=\"1\" class=\"dataframe\">\n",
       "  <thead>\n",
       "    <tr style=\"text-align: right;\">\n",
       "      <th></th>\n",
       "      <th>Unnamed: 0</th>\n",
       "      <th>dataset</th>\n",
       "      <th>ionization</th>\n",
       "      <th>formula</th>\n",
       "      <th>smiles</th>\n",
       "      <th>inchikey</th>\n",
       "      <th>instrument</th>\n",
       "      <th>key</th>\n",
       "    </tr>\n",
       "  </thead>\n",
       "  <tbody>\n",
       "    <tr>\n",
       "      <th>0</th>\n",
       "      <td>0</td>\n",
       "      <td>neims</td>\n",
       "      <td>[M]+</td>\n",
       "      <td>CH2O</td>\n",
       "      <td>C=O</td>\n",
       "      <td>WSFSSNUMVMOOMR-UHFFFAOYSA-N</td>\n",
       "      <td>simulated</td>\n",
       "      <td>gecko_0</td>\n",
       "    </tr>\n",
       "    <tr>\n",
       "      <th>1</th>\n",
       "      <td>1</td>\n",
       "      <td>neims</td>\n",
       "      <td>[M]+</td>\n",
       "      <td>CHNO3</td>\n",
       "      <td>O=C[N+](=O)[O-]</td>\n",
       "      <td>CAMJPMYWRKKZNK-UHFFFAOYSA-N</td>\n",
       "      <td>simulated</td>\n",
       "      <td>gecko_1</td>\n",
       "    </tr>\n",
       "    <tr>\n",
       "      <th>2</th>\n",
       "      <td>2</td>\n",
       "      <td>neims</td>\n",
       "      <td>[M]+</td>\n",
       "      <td>C2HNO4</td>\n",
       "      <td>O=CC(=O)[N+](=O)[O-]</td>\n",
       "      <td>UJDBJZXDOVXPFV-UHFFFAOYSA-N</td>\n",
       "      <td>simulated</td>\n",
       "      <td>gecko_2</td>\n",
       "    </tr>\n",
       "    <tr>\n",
       "      <th>3</th>\n",
       "      <td>3</td>\n",
       "      <td>neims</td>\n",
       "      <td>[M]+</td>\n",
       "      <td>C2HNO5</td>\n",
       "      <td>O=C(O)C(=O)[N+](=O)[O-]</td>\n",
       "      <td>RMULBIRLFFXIEL-UHFFFAOYSA-N</td>\n",
       "      <td>simulated</td>\n",
       "      <td>gecko_3</td>\n",
       "    </tr>\n",
       "  </tbody>\n",
       "</table>\n",
       "</div>"
      ],
      "text/plain": [
       "   Unnamed: 0 dataset ionization formula                   smiles  \\\n",
       "0           0   neims       [M]+    CH2O                      C=O   \n",
       "1           1   neims       [M]+   CHNO3          O=C[N+](=O)[O-]   \n",
       "2           2   neims       [M]+  C2HNO4     O=CC(=O)[N+](=O)[O-]   \n",
       "3           3   neims       [M]+  C2HNO5  O=C(O)C(=O)[N+](=O)[O-]   \n",
       "\n",
       "                      inchikey instrument      key  \n",
       "0  WSFSSNUMVMOOMR-UHFFFAOYSA-N  simulated  gecko_0  \n",
       "1  CAMJPMYWRKKZNK-UHFFFAOYSA-N  simulated  gecko_1  \n",
       "2  UJDBJZXDOVXPFV-UHFFFAOYSA-N  simulated  gecko_2  \n",
       "3  RMULBIRLFFXIEL-UHFFFAOYSA-N  simulated  gecko_3  "
      ]
     },
     "execution_count": 3,
     "metadata": {},
     "output_type": "execute_result"
    }
   ],
   "source": [
    "df2 = pd.read_csv('../data/neims/labels.tsv', sep='\\t')\n",
    "df2['key'] = df2['spec']\n",
    "df2 = df2.drop(columns='spec')\n",
    "print(df2.shape)\n",
    "df2.head(4)"
   ]
  },
  {
   "cell_type": "code",
   "execution_count": 4,
   "id": "83f2cf6a",
   "metadata": {},
   "outputs": [
    {
     "name": "stdout",
     "output_type": "stream",
     "text": [
      "(166158, 4)\n"
     ]
    },
    {
     "data": {
      "text/html": [
       "<div>\n",
       "<style scoped>\n",
       "    .dataframe tbody tr th:only-of-type {\n",
       "        vertical-align: middle;\n",
       "    }\n",
       "\n",
       "    .dataframe tbody tr th {\n",
       "        vertical-align: top;\n",
       "    }\n",
       "\n",
       "    .dataframe thead th {\n",
       "        text-align: right;\n",
       "    }\n",
       "</style>\n",
       "<table border=\"1\" class=\"dataframe\">\n",
       "  <thead>\n",
       "    <tr style=\"text-align: right;\">\n",
       "      <th></th>\n",
       "      <th>SMILES</th>\n",
       "      <th>spec</th>\n",
       "      <th>mol</th>\n",
       "      <th>inchikey</th>\n",
       "    </tr>\n",
       "  </thead>\n",
       "  <tbody>\n",
       "    <tr>\n",
       "      <th>0</th>\n",
       "      <td>C=O</td>\n",
       "      <td>[[14, 202], [15, 313], [16, 165], [18, 16], [1...</td>\n",
       "      <td>&lt;rdkit.Chem.rdchem.Mol object at 0x00000260401...</td>\n",
       "      <td>WSFSSNUMVMOOMR-UHFFFAOYSA-N</td>\n",
       "    </tr>\n",
       "    <tr>\n",
       "      <th>1</th>\n",
       "      <td>O=C[N+](=O)[O-]</td>\n",
       "      <td>[[14, 72], [16, 151], [17, 70], [18, 108], [19...</td>\n",
       "      <td>&lt;rdkit.Chem.rdchem.Mol object at 0x00000260403...</td>\n",
       "      <td>CAMJPMYWRKKZNK-UHFFFAOYSA-N</td>\n",
       "    </tr>\n",
       "    <tr>\n",
       "      <th>2</th>\n",
       "      <td>O=CC(=O)[N+](=O)[O-]</td>\n",
       "      <td>[[14, 153], [15, 174], [16, 125], [17, 36], [1...</td>\n",
       "      <td>&lt;rdkit.Chem.rdchem.Mol object at 0x00000260403...</td>\n",
       "      <td>UJDBJZXDOVXPFV-UHFFFAOYSA-N</td>\n",
       "    </tr>\n",
       "    <tr>\n",
       "      <th>3</th>\n",
       "      <td>O=C(O)C(=O)[N+](=O)[O-]</td>\n",
       "      <td>[[14, 120], [15, 236], [16, 149], [17, 78], [1...</td>\n",
       "      <td>&lt;rdkit.Chem.rdchem.Mol object at 0x00000260403...</td>\n",
       "      <td>RMULBIRLFFXIEL-UHFFFAOYSA-N</td>\n",
       "    </tr>\n",
       "  </tbody>\n",
       "</table>\n",
       "</div>"
      ],
      "text/plain": [
       "                    SMILES                                               spec  \\\n",
       "0                      C=O  [[14, 202], [15, 313], [16, 165], [18, 16], [1...   \n",
       "1          O=C[N+](=O)[O-]  [[14, 72], [16, 151], [17, 70], [18, 108], [19...   \n",
       "2     O=CC(=O)[N+](=O)[O-]  [[14, 153], [15, 174], [16, 125], [17, 36], [1...   \n",
       "3  O=C(O)C(=O)[N+](=O)[O-]  [[14, 120], [15, 236], [16, 149], [17, 78], [1...   \n",
       "\n",
       "                                                 mol  \\\n",
       "0  <rdkit.Chem.rdchem.Mol object at 0x00000260401...   \n",
       "1  <rdkit.Chem.rdchem.Mol object at 0x00000260403...   \n",
       "2  <rdkit.Chem.rdchem.Mol object at 0x00000260403...   \n",
       "3  <rdkit.Chem.rdchem.Mol object at 0x00000260403...   \n",
       "\n",
       "                      inchikey  \n",
       "0  WSFSSNUMVMOOMR-UHFFFAOYSA-N  \n",
       "1  CAMJPMYWRKKZNK-UHFFFAOYSA-N  \n",
       "2  UJDBJZXDOVXPFV-UHFFFAOYSA-N  \n",
       "3  RMULBIRLFFXIEL-UHFFFAOYSA-N  "
      ]
     },
     "execution_count": 4,
     "metadata": {},
     "output_type": "execute_result"
    }
   ],
   "source": [
    "df1['mol'] = df1['SMILES'].apply(MolFromSmiles)\n",
    "df1['inchikey'] = df1['mol'].apply(MolToInchiKey)\n",
    "print(df1.shape)\n",
    "df1.head(4)"
   ]
  },
  {
   "cell_type": "code",
   "execution_count": 5,
   "id": "39dcfd13",
   "metadata": {},
   "outputs": [
    {
     "name": "stdout",
     "output_type": "stream",
     "text": [
      "(166158, 11)\n"
     ]
    },
    {
     "data": {
      "text/html": [
       "<div>\n",
       "<style scoped>\n",
       "    .dataframe tbody tr th:only-of-type {\n",
       "        vertical-align: middle;\n",
       "    }\n",
       "\n",
       "    .dataframe tbody tr th {\n",
       "        vertical-align: top;\n",
       "    }\n",
       "\n",
       "    .dataframe thead th {\n",
       "        text-align: right;\n",
       "    }\n",
       "</style>\n",
       "<table border=\"1\" class=\"dataframe\">\n",
       "  <thead>\n",
       "    <tr style=\"text-align: right;\">\n",
       "      <th></th>\n",
       "      <th>SMILES</th>\n",
       "      <th>spec</th>\n",
       "      <th>mol</th>\n",
       "      <th>inchikey</th>\n",
       "      <th>Unnamed: 0</th>\n",
       "      <th>dataset</th>\n",
       "      <th>ionization</th>\n",
       "      <th>formula</th>\n",
       "      <th>smiles</th>\n",
       "      <th>instrument</th>\n",
       "      <th>key</th>\n",
       "    </tr>\n",
       "  </thead>\n",
       "  <tbody>\n",
       "    <tr>\n",
       "      <th>0</th>\n",
       "      <td>C=O</td>\n",
       "      <td>[[14, 202], [15, 313], [16, 165], [18, 16], [1...</td>\n",
       "      <td>&lt;rdkit.Chem.rdchem.Mol object at 0x00000260401...</td>\n",
       "      <td>WSFSSNUMVMOOMR-UHFFFAOYSA-N</td>\n",
       "      <td>0</td>\n",
       "      <td>neims</td>\n",
       "      <td>[M]+</td>\n",
       "      <td>CH2O</td>\n",
       "      <td>C=O</td>\n",
       "      <td>simulated</td>\n",
       "      <td>gecko_0</td>\n",
       "    </tr>\n",
       "    <tr>\n",
       "      <th>1</th>\n",
       "      <td>O=C[N+](=O)[O-]</td>\n",
       "      <td>[[14, 72], [16, 151], [17, 70], [18, 108], [19...</td>\n",
       "      <td>&lt;rdkit.Chem.rdchem.Mol object at 0x00000260403...</td>\n",
       "      <td>CAMJPMYWRKKZNK-UHFFFAOYSA-N</td>\n",
       "      <td>1</td>\n",
       "      <td>neims</td>\n",
       "      <td>[M]+</td>\n",
       "      <td>CHNO3</td>\n",
       "      <td>O=C[N+](=O)[O-]</td>\n",
       "      <td>simulated</td>\n",
       "      <td>gecko_1</td>\n",
       "    </tr>\n",
       "    <tr>\n",
       "      <th>2</th>\n",
       "      <td>O=CC(=O)[N+](=O)[O-]</td>\n",
       "      <td>[[14, 153], [15, 174], [16, 125], [17, 36], [1...</td>\n",
       "      <td>&lt;rdkit.Chem.rdchem.Mol object at 0x00000260403...</td>\n",
       "      <td>UJDBJZXDOVXPFV-UHFFFAOYSA-N</td>\n",
       "      <td>2</td>\n",
       "      <td>neims</td>\n",
       "      <td>[M]+</td>\n",
       "      <td>C2HNO4</td>\n",
       "      <td>O=CC(=O)[N+](=O)[O-]</td>\n",
       "      <td>simulated</td>\n",
       "      <td>gecko_2</td>\n",
       "    </tr>\n",
       "    <tr>\n",
       "      <th>3</th>\n",
       "      <td>O=C(O)C(=O)[N+](=O)[O-]</td>\n",
       "      <td>[[14, 120], [15, 236], [16, 149], [17, 78], [1...</td>\n",
       "      <td>&lt;rdkit.Chem.rdchem.Mol object at 0x00000260403...</td>\n",
       "      <td>RMULBIRLFFXIEL-UHFFFAOYSA-N</td>\n",
       "      <td>3</td>\n",
       "      <td>neims</td>\n",
       "      <td>[M]+</td>\n",
       "      <td>C2HNO5</td>\n",
       "      <td>O=C(O)C(=O)[N+](=O)[O-]</td>\n",
       "      <td>simulated</td>\n",
       "      <td>gecko_3</td>\n",
       "    </tr>\n",
       "  </tbody>\n",
       "</table>\n",
       "</div>"
      ],
      "text/plain": [
       "                    SMILES                                               spec  \\\n",
       "0                      C=O  [[14, 202], [15, 313], [16, 165], [18, 16], [1...   \n",
       "1          O=C[N+](=O)[O-]  [[14, 72], [16, 151], [17, 70], [18, 108], [19...   \n",
       "2     O=CC(=O)[N+](=O)[O-]  [[14, 153], [15, 174], [16, 125], [17, 36], [1...   \n",
       "3  O=C(O)C(=O)[N+](=O)[O-]  [[14, 120], [15, 236], [16, 149], [17, 78], [1...   \n",
       "\n",
       "                                                 mol  \\\n",
       "0  <rdkit.Chem.rdchem.Mol object at 0x00000260401...   \n",
       "1  <rdkit.Chem.rdchem.Mol object at 0x00000260403...   \n",
       "2  <rdkit.Chem.rdchem.Mol object at 0x00000260403...   \n",
       "3  <rdkit.Chem.rdchem.Mol object at 0x00000260403...   \n",
       "\n",
       "                      inchikey  Unnamed: 0 dataset ionization formula  \\\n",
       "0  WSFSSNUMVMOOMR-UHFFFAOYSA-N           0   neims       [M]+    CH2O   \n",
       "1  CAMJPMYWRKKZNK-UHFFFAOYSA-N           1   neims       [M]+   CHNO3   \n",
       "2  UJDBJZXDOVXPFV-UHFFFAOYSA-N           2   neims       [M]+  C2HNO4   \n",
       "3  RMULBIRLFFXIEL-UHFFFAOYSA-N           3   neims       [M]+  C2HNO5   \n",
       "\n",
       "                    smiles instrument      key  \n",
       "0                      C=O  simulated  gecko_0  \n",
       "1          O=C[N+](=O)[O-]  simulated  gecko_1  \n",
       "2     O=CC(=O)[N+](=O)[O-]  simulated  gecko_2  \n",
       "3  O=C(O)C(=O)[N+](=O)[O-]  simulated  gecko_3  "
      ]
     },
     "execution_count": 5,
     "metadata": {},
     "output_type": "execute_result"
    }
   ],
   "source": [
    "df = pd.merge(df1, df2, on='inchikey')\n",
    "print(df.shape)\n",
    "df.head(4)"
   ]
  },
  {
   "cell_type": "code",
   "execution_count": 6,
   "id": "a94401e8",
   "metadata": {},
   "outputs": [
    {
     "data": {
      "text/plain": [
       "array(['gecko_112646', 'gecko_18037', 'gecko_133667', ..., 'gecko_54476',\n",
       "       'gecko_152305', 'gecko_134980'], dtype=object)"
      ]
     },
     "execution_count": 6,
     "metadata": {},
     "output_type": "execute_result"
    }
   ],
   "source": [
    "test_names = pd.read_csv('batch_names.txt', index_col=None, header=None).values.flatten()\n",
    "test_names"
   ]
  },
  {
   "cell_type": "code",
   "execution_count": 7,
   "id": "6cd088ab",
   "metadata": {},
   "outputs": [
    {
     "name": "stdout",
     "output_type": "stream",
     "text": [
      "(1024, 11)\n"
     ]
    },
    {
     "data": {
      "text/html": [
       "<div>\n",
       "<style scoped>\n",
       "    .dataframe tbody tr th:only-of-type {\n",
       "        vertical-align: middle;\n",
       "    }\n",
       "\n",
       "    .dataframe tbody tr th {\n",
       "        vertical-align: top;\n",
       "    }\n",
       "\n",
       "    .dataframe thead th {\n",
       "        text-align: right;\n",
       "    }\n",
       "</style>\n",
       "<table border=\"1\" class=\"dataframe\">\n",
       "  <thead>\n",
       "    <tr style=\"text-align: right;\">\n",
       "      <th></th>\n",
       "      <th>key</th>\n",
       "      <th>SMILES</th>\n",
       "      <th>spec</th>\n",
       "      <th>mol</th>\n",
       "      <th>inchikey</th>\n",
       "      <th>Unnamed: 0</th>\n",
       "      <th>dataset</th>\n",
       "      <th>ionization</th>\n",
       "      <th>formula</th>\n",
       "      <th>smiles</th>\n",
       "      <th>instrument</th>\n",
       "    </tr>\n",
       "  </thead>\n",
       "  <tbody>\n",
       "    <tr>\n",
       "      <th>0</th>\n",
       "      <td>gecko_112646</td>\n",
       "      <td>CC(=O)C1OOC(C(O)(C(=O)OO[N+](=O)[O-])[N+](=O)[...</td>\n",
       "      <td>[[14, 37], [15, 48], [16, 21], [17, 7], [18, 2...</td>\n",
       "      <td>&lt;rdkit.Chem.rdchem.Mol object at 0x000002603FD...</td>\n",
       "      <td>UVQLIRPGVOIFEW-UHFFFAOYSA-N</td>\n",
       "      <td>112551</td>\n",
       "      <td>neims</td>\n",
       "      <td>[M]+</td>\n",
       "      <td>C7H8N2O12</td>\n",
       "      <td>CC(=O)C1OOC(C(O)(C(=O)OO[N+](=O)[O-])[N+](=O)[...</td>\n",
       "      <td>simulated</td>\n",
       "    </tr>\n",
       "    <tr>\n",
       "      <th>1</th>\n",
       "      <td>gecko_18037</td>\n",
       "      <td>O=CC(O)(C=O)C(=O)OC(OO)C(=O)O</td>\n",
       "      <td>[[14, 125], [15, 288], [16, 161], [17, 198], [...</td>\n",
       "      <td>&lt;rdkit.Chem.rdchem.Mol object at 0x00000260384...</td>\n",
       "      <td>RDZVAHAQASSBEZ-UHFFFAOYSA-N</td>\n",
       "      <td>18030</td>\n",
       "      <td>neims</td>\n",
       "      <td>[M]+</td>\n",
       "      <td>C6H6O9</td>\n",
       "      <td>O=CC(O)(C=O)C(=O)OC(OO)C(=O)O</td>\n",
       "      <td>simulated</td>\n",
       "    </tr>\n",
       "    <tr>\n",
       "      <th>2</th>\n",
       "      <td>gecko_133667</td>\n",
       "      <td>CC(O)(C(=O)O)C(C=O)O[N+](=O)[O-]</td>\n",
       "      <td>[[14, 102], [15, 219], [16, 100], [17, 95], [1...</td>\n",
       "      <td>&lt;rdkit.Chem.rdchem.Mol object at 0x00000260A32...</td>\n",
       "      <td>BKMGPEJZVSJROT-UHFFFAOYSA-N</td>\n",
       "      <td>133515</td>\n",
       "      <td>neims</td>\n",
       "      <td>[M]+</td>\n",
       "      <td>C5H7NO7</td>\n",
       "      <td>CC(O)(C(=O)O)C(C=O)O[N+](=O)[O-]</td>\n",
       "      <td>simulated</td>\n",
       "    </tr>\n",
       "    <tr>\n",
       "      <th>3</th>\n",
       "      <td>gecko_42648</td>\n",
       "      <td>O=CC(O)C(O[N+](=O)[O-])C(=O)OC(C=O)(OO)C(=O)OO...</td>\n",
       "      <td>[[14, 59], [15, 105], [16, 115], [17, 33], [18...</td>\n",
       "      <td>&lt;rdkit.Chem.rdchem.Mol object at 0x000002603E8...</td>\n",
       "      <td>JZLREPANYJWLEW-UHFFFAOYSA-N</td>\n",
       "      <td>42616</td>\n",
       "      <td>neims</td>\n",
       "      <td>[M]+</td>\n",
       "      <td>C7H6N2O15</td>\n",
       "      <td>O=CC(O)C(O[N+](=O)[O-])C(=O)OC(C=O)(OO)C(=O)OO...</td>\n",
       "      <td>simulated</td>\n",
       "    </tr>\n",
       "  </tbody>\n",
       "</table>\n",
       "</div>"
      ],
      "text/plain": [
       "            key                                             SMILES  \\\n",
       "0  gecko_112646  CC(=O)C1OOC(C(O)(C(=O)OO[N+](=O)[O-])[N+](=O)[...   \n",
       "1   gecko_18037                      O=CC(O)(C=O)C(=O)OC(OO)C(=O)O   \n",
       "2  gecko_133667                   CC(O)(C(=O)O)C(C=O)O[N+](=O)[O-]   \n",
       "3   gecko_42648  O=CC(O)C(O[N+](=O)[O-])C(=O)OC(C=O)(OO)C(=O)OO...   \n",
       "\n",
       "                                                spec  \\\n",
       "0  [[14, 37], [15, 48], [16, 21], [17, 7], [18, 2...   \n",
       "1  [[14, 125], [15, 288], [16, 161], [17, 198], [...   \n",
       "2  [[14, 102], [15, 219], [16, 100], [17, 95], [1...   \n",
       "3  [[14, 59], [15, 105], [16, 115], [17, 33], [18...   \n",
       "\n",
       "                                                 mol  \\\n",
       "0  <rdkit.Chem.rdchem.Mol object at 0x000002603FD...   \n",
       "1  <rdkit.Chem.rdchem.Mol object at 0x00000260384...   \n",
       "2  <rdkit.Chem.rdchem.Mol object at 0x00000260A32...   \n",
       "3  <rdkit.Chem.rdchem.Mol object at 0x000002603E8...   \n",
       "\n",
       "                      inchikey  Unnamed: 0 dataset ionization    formula  \\\n",
       "0  UVQLIRPGVOIFEW-UHFFFAOYSA-N      112551   neims       [M]+  C7H8N2O12   \n",
       "1  RDZVAHAQASSBEZ-UHFFFAOYSA-N       18030   neims       [M]+     C6H6O9   \n",
       "2  BKMGPEJZVSJROT-UHFFFAOYSA-N      133515   neims       [M]+    C5H7NO7   \n",
       "3  JZLREPANYJWLEW-UHFFFAOYSA-N       42616   neims       [M]+  C7H6N2O15   \n",
       "\n",
       "                                              smiles instrument  \n",
       "0  CC(=O)C1OOC(C(O)(C(=O)OO[N+](=O)[O-])[N+](=O)[...  simulated  \n",
       "1                      O=CC(O)(C=O)C(=O)OC(OO)C(=O)O  simulated  \n",
       "2                   CC(O)(C(=O)O)C(C=O)O[N+](=O)[O-]  simulated  \n",
       "3  O=CC(O)C(O[N+](=O)[O-])C(=O)OC(C=O)(OO)C(=O)OO...  simulated  "
      ]
     },
     "execution_count": 7,
     "metadata": {},
     "output_type": "execute_result"
    }
   ],
   "source": [
    "df_test = df[df['key'].isin(test_names)].set_index('key').loc[test_names].reset_index()\n",
    "df_test = df_test.reset_index().drop(columns='index')\n",
    "print(df_test.shape)\n",
    "df_test.head(4)"
   ]
  },
  {
   "cell_type": "code",
   "execution_count": 8,
   "id": "c003098f",
   "metadata": {},
   "outputs": [],
   "source": [
    "def fix_malformed_nitro(mol: Chem.Mol) -> Chem.Mol:\n",
    "    mol = Chem.RWMol(mol)\n",
    "    to_fix = []\n",
    "\n",
    "    for atom in mol.GetAtoms():\n",
    "        if atom.GetAtomicNum() != 7:  # Not nitrogen\n",
    "            continue\n",
    "        #if atom.GetDegree() != 3:\n",
    "        #    continue\n",
    "\n",
    "        o_double = None\n",
    "        o_single = None\n",
    "\n",
    "        for neighbor in atom.GetNeighbors():\n",
    "            if neighbor.GetAtomicNum() != 8:\n",
    "                continue\n",
    "            bond = mol.GetBondBetweenAtoms(atom.GetIdx(), neighbor.GetIdx())\n",
    "            if bond.GetBondType() == Chem.rdchem.BondType.DOUBLE:\n",
    "                o_double = neighbor\n",
    "            elif bond.GetBondType() == Chem.rdchem.BondType.SINGLE:\n",
    "                if len([nbr for nbr in neighbor.GetNeighbors() if nbr.GetIdx() != atom.GetIdx()]) == 0:\n",
    "                    o_single = neighbor\n",
    "\n",
    "        if o_double != None and o_single != None:\n",
    "            to_fix.append((atom.GetIdx(), o_single.GetIdx()))\n",
    "\n",
    "    # Apply fixes\n",
    "    for n_idx, o_idx in to_fix:\n",
    "        mol.GetAtomWithIdx(n_idx).SetFormalCharge(+1)\n",
    "        mol.GetAtomWithIdx(o_idx).SetFormalCharge(-1)\n",
    "\n",
    "    return mol.GetMol()\n",
    "\n",
    "with open('generated_mols.pkl', 'rb') as file:\n",
    "    generated_mols = pkl.load(file)\n",
    "\n",
    "generated_mols_no_hs = []\n",
    "generated_mols_no_hs_nitro_fix = []\n",
    "for mol_list in generated_mols:\n",
    "    mol_list_no_h = []\n",
    "    mol_list_no_h_nitro_fix = []\n",
    "    for mol in mol_list:\n",
    "        try:\n",
    "            mol_no_h = RemoveHs(mol, sanitize=False)\n",
    "            mol_list_no_h.append(mol_no_h)\n",
    "            mol_list_no_h_nitro_fix.append(fix_malformed_nitro(mol_no_h))\n",
    "        except AtomValenceException: \n",
    "            print('Explicit valence is greater than permitted')\n",
    "    generated_mols_no_hs.append(mol_list_no_h)\n",
    "    generated_mols_no_hs_nitro_fix.append(mol_list_no_h_nitro_fix)"
   ]
  },
  {
   "cell_type": "code",
   "execution_count": 9,
   "id": "9231beb7",
   "metadata": {},
   "outputs": [],
   "source": [
    "top1 = np.array(generated_mols_no_hs)[:, 0].flatten()\n",
    "morgan_generator = rdFingerprintGenerator.GetMorganGenerator(radius=2,fpSize=2048)\n",
    "#fps_true = [morgan_generator.GetFingerprint(mol) for mol in tqdm(top1[1:2], desc=\"Computing fingerprints 2\")]"
   ]
  },
  {
   "cell_type": "code",
   "execution_count": 10,
   "id": "6fd93a16",
   "metadata": {},
   "outputs": [
    {
     "data": {
      "text/plain": [
       "\"\\nfp_gen = pd.read_csv('fp.txt', index_col=None, header=None, delim_whitespace=True).values\\nfp_gen_bit_vect = []\\nfor fp in fp_gen:\\n    bit_vect = ExplicitBitVect(len(fp))\\n    for idx, bit in enumerate(fp):\\n        bit_vect[idx] = int(bit)\\n    fp_gen_bit_vect.append(bit_vect)\\n\""
      ]
     },
     "execution_count": 10,
     "metadata": {},
     "output_type": "execute_result"
    }
   ],
   "source": [
    "'''\n",
    "fp_gen = pd.read_csv('fp.txt', index_col=None, header=None, delim_whitespace=True).values\n",
    "fp_gen_bit_vect = []\n",
    "for fp in fp_gen:\n",
    "    bit_vect = ExplicitBitVect(len(fp))\n",
    "    for idx, bit in enumerate(fp):\n",
    "        bit_vect[idx] = int(bit)\n",
    "    fp_gen_bit_vect.append(bit_vect)\n",
    "'''"
   ]
  },
  {
   "cell_type": "code",
   "execution_count": 11,
   "id": "fb56d6a9",
   "metadata": {},
   "outputs": [
    {
     "name": "stderr",
     "output_type": "stream",
     "text": [
      "Computing fingerprints: 100%|██████████| 1024/1024 [00:00<00:00, 13663.31it/s]\n"
     ]
    }
   ],
   "source": [
    "morgan_generator = rdFingerprintGenerator.GetMorganGenerator(radius=2,fpSize=2048)\n",
    "fps_true= [morgan_generator.GetFingerprint(mol) for mol in tqdm(df_test['mol'].values, desc=\"Computing fingerprints\")]\n",
    "#fps_true = [morgan_generator.GetFingerprint(mol) for mol in tqdm(top1, desc=\"Computing fingerprints 2\")]"
   ]
  },
  {
   "cell_type": "code",
   "execution_count": 12,
   "id": "02214aef",
   "metadata": {},
   "outputs": [
    {
     "data": {
      "text/plain": [
       "\"\\nsims = []\\nn = len(fp_gen)\\nfor i in range(n):\\n    sims.append(TanimotoSimilarity(fp_gen_bit_vect[i], fps_pred[i]))\\ndf_test['sims'] = sims\\ndf_test\\n\""
      ]
     },
     "execution_count": 12,
     "metadata": {},
     "output_type": "execute_result"
    }
   ],
   "source": [
    "'''\n",
    "sims = []\n",
    "n = len(fp_gen)\n",
    "for i in range(n):\n",
    "    sims.append(TanimotoSimilarity(fp_gen_bit_vect[i], fps_pred[i]))\n",
    "df_test['sims'] = sims\n",
    "df_test\n",
    "'''"
   ]
  },
  {
   "cell_type": "code",
   "execution_count": 13,
   "id": "d9ae0490",
   "metadata": {},
   "outputs": [],
   "source": [
    "pictures = []"
   ]
  },
  {
   "cell_type": "code",
   "execution_count": 162,
   "id": "9b9e972d",
   "metadata": {},
   "outputs": [
    {
     "name": "stdout",
     "output_type": "stream",
     "text": [
      "gecko_18037\n"
     ]
    }
   ],
   "source": [
    "mol_idx = 1\n",
    "def _iterate():\n",
    "    global mol_idx, mol1, mols2, mols2_idx, mols3, mols3_idx, mol1_name\n",
    "    mol1 =  Chem.RemoveAllHs(df_test['mol'].values[mol_idx])\n",
    "\n",
    "    mols2 = iter(generated_mols[mol_idx])\n",
    "    mols2_idx = iter(list(range(len(generated_mols[0]))))\n",
    "\n",
    "    mols3 = iter(generated_mols[mol_idx])\n",
    "    mols3_idx = iter(list(range(len(generated_mols[0]))))\n",
    "\n",
    "    mol1_name = df_test.iloc[mol_idx]['key']\n",
    "    print(mol1_name)\n",
    "_iterate()"
   ]
  },
  {
   "cell_type": "code",
   "execution_count": 386,
   "id": "411a9f74",
   "metadata": {},
   "outputs": [
    {
     "name": "stdout",
     "output_type": "stream",
     "text": [
      "C6H7NO11, C6H7NO11\n"
     ]
    },
    {
     "data": {
      "image/png": "[encoded data removed]",
      "text/plain": [
       "<IPython.core.display.Image object>"
      ]
     },
     "execution_count": 386,
     "metadata": {},
     "output_type": "execute_result"
    }
   ],
   "source": [
    "def show_image(im, show_im: bool):\n",
    "    if show_im: \n",
    "        return im\n",
    "    return None\n",
    "#mol2 = Chem.RemoveAllHs(next(mols2))\n",
    "try:\n",
    "    show_im = True\n",
    "    mol3 = Chem.RemoveAllHs(next(mols3))\n",
    "    mol2_idx = next(mols2_idx)\n",
    "    mol3_idx = next(mols3_idx)\n",
    "    molwt1, molwt3, = round(ExactMolWt(mol1)), round(ExactMolWt(mol3))\n",
    "    print(f'{CalcMolFormula(mol1)}, {CalcMolFormula(mol3)}')\n",
    "    legends = [f'Reference (M = {molwt1})', f'Predicted k={mol3_idx+1} (M = {molwt3})', f'Predicted k={mol3_idx+1} (M = {molwt3})']\n",
    "    subImgSize = (500, 500)\n",
    "    im = Draw.MolsToGridImage([mol1, mol3], molsPerRow=2, subImgSize=subImgSize, legends=legends)\n",
    "except StopIteration:\n",
    "    mol_idx += 1\n",
    "    _iterate()\n",
    "    show_im= False\n",
    "im = show_image(im, show_im)\n",
    "im"
   ]
  },
  {
   "cell_type": "code",
   "execution_count": 16,
   "id": "98f99b56",
   "metadata": {},
   "outputs": [],
   "source": [
    "def create_labeled_mol_image(mol, title_top, title_bottom, img_size=(800, 800)):\n",
    "    # Draw molecule (slightly smaller to leave space for top/bottom text)\n",
    "    mol_img = Draw.MolToImage(mol, size=(img_size[0], img_size[1] - 80))\n",
    "\n",
    "    # New canvas\n",
    "    canvas = Image.new(\"RGB\", img_size, \"white\")\n",
    "    canvas.paste(mol_img, (0, 40))  # vertical offset for top label\n",
    "\n",
    "    draw = ImageDraw.Draw(canvas)\n",
    "\n",
    "    font = ImageFont.truetype(\"arial.ttf\", 50)\n",
    "    font_title = ImageFont.truetype(\"arial.ttf\", 40)\n",
    "\n",
    "    # Helper to get centered text x-position\n",
    "    def center_text_x(text):\n",
    "        bbox = draw.textbbox((0, 0), text, font=font)\n",
    "        text_width = bbox[2] - bbox[0]\n",
    "        return (img_size[0] - text_width) // 2\n",
    "\n",
    "    # Draw top and bottom text\n",
    "    draw.text((20, 30), title_top, fill=\"black\", font=font_title)\n",
    "    draw.text((center_text_x(title_bottom), img_size[1] - 60), title_bottom, fill=\"black\", font=font)\n",
    "\n",
    "    return canvas\n"
   ]
  },
  {
   "cell_type": "code",
   "execution_count": 17,
   "id": "6560ca9a",
   "metadata": {},
   "outputs": [],
   "source": [
    "# Reference molecule\n",
    "img1 = create_labeled_mol_image(mol1, title_top=mol1_name, title_bottom=\"Reference\")\n",
    "\n",
    "# Predicted molecule\n",
    "img2 = create_labeled_mol_image(mol3, title_top='', title_bottom=f\"Predicted k={mol3_idx+1}\")\n",
    "\n",
    "# Combine side-by-side\n",
    "combined_img = Image.new(\"RGB\", (img1.width + img2.width, img1.height), \"white\")\n",
    "combined_img.paste(img1, (0, 0))\n",
    "combined_img.paste(img2, (img1.width, 0))\n",
    "\n",
    "# Add to picture list\n",
    "pictures.append(combined_img)"
   ]
  },
  {
   "cell_type": "code",
   "execution_count": 18,
   "id": "76fe461d",
   "metadata": {},
   "outputs": [],
   "source": [
    "def stack_images_vertically_with_lines(images, line_height=5, line_color=\"gray\"):\n",
    "    # Add separator lines between each image\n",
    "    total_height = sum(img.height for img in images) + line_height * (len(images) - 1)\n",
    "    max_width = max(img.width for img in images)\n",
    "\n",
    "    final_image = Image.new(\"RGB\", (max_width, total_height), \"white\")\n",
    "    \n",
    "    y_offset = 0\n",
    "    for idx, img in enumerate(images):\n",
    "        final_image.paste(img, (0, y_offset))\n",
    "        y_offset += img.height\n",
    "\n",
    "        # Draw separator line unless it's the last image\n",
    "        if idx < len(images) - 1:\n",
    "            line = Image.new(\"RGB\", (max_width, line_height), line_color)\n",
    "            final_image.paste(line, (0, y_offset))\n",
    "            y_offset += line_height\n",
    "\n",
    "    return final_image"
   ]
  },
  {
   "cell_type": "code",
   "execution_count": 19,
   "id": "fcc2ad95",
   "metadata": {},
   "outputs": [],
   "source": [
    "# Stack all combined images vertically\n",
    "if pictures:\n",
    "    stack_images_vertically_with_lines(pictures).save(\"all_comparisons.png\")"
   ]
  },
  {
   "cell_type": "code",
   "execution_count": 20,
   "id": "32e3db60",
   "metadata": {},
   "outputs": [
    {
     "ename": "Exception",
     "evalue": "",
     "output_type": "error",
     "traceback": [
      "\u001b[1;31m---------------------------------------------------------------------------\u001b[0m",
      "\u001b[1;31mException\u001b[0m                                 Traceback (most recent call last)",
      "Cell \u001b[1;32mIn[20], line 1\u001b[0m\n\u001b[1;32m----> 1\u001b[0m \u001b[38;5;28;01mraise\u001b[39;00m \u001b[38;5;167;01mException\u001b[39;00m\n",
      "\u001b[1;31mException\u001b[0m: "
     ]
    }
   ],
   "source": [
    "raise Exception"
   ]
  },
  {
   "cell_type": "code",
   "execution_count": null,
   "id": "cedae9f5",
   "metadata": {},
   "outputs": [],
   "source": [
    "# Set up the drawer\n",
    "drawer = rdMolDraw2D.MolDraw2DCairo(3000, 400)  # width x height\n",
    "drawer.drawOptions().legendFontSize = 35      # <-- increase font size here\n",
    "\n",
    "\n",
    "drawer.DrawMolecule(mol1, legend=legends[0])\n",
    "# Translate the drawing origin to the right for the second molecule\n",
    "drawer.SetOffset(700, 0)\n",
    "drawer.DrawMolecule(mol3, legend=legends[1])\n",
    "\n",
    "drawer.FinishDrawing()\n",
    "with open('molecules.png', 'wb') as f:\n",
    "    f.write(drawer.GetDrawingText())\n",
    "\n",
    "# Load with PIL\n",
    "img = Image.open('molecules.png')\n",
    "\n",
    "# Create a white background image\n",
    "bg = Image.new(img.mode, img.size, (255, 255, 255))\n",
    "\n",
    "# Calculate difference\n",
    "diff = ImageChops.difference(img, bg)\n",
    "\n",
    "# Enhance difference to highlight non-white areas\n",
    "bbox = diff.getbbox()\n",
    "\n",
    "if bbox:\n",
    "    cropped_img = img.crop(bbox)\n",
    "    cropped_img.show()  # display cropped image\n",
    "    cropped_img.save('molecules.png')\n",
    "else:\n",
    "    print(\"No non-white area detected; image may already be fully cropped.\")"
   ]
  },
  {
   "cell_type": "code",
   "execution_count": null,
   "id": "47101fc7",
   "metadata": {},
   "outputs": [
    {
     "ename": "KeyboardInterrupt",
     "evalue": "",
     "output_type": "error",
     "traceback": [
      "\u001b[1;31m---------------------------------------------------------------------------\u001b[0m",
      "\u001b[1;31mKeyboardInterrupt\u001b[0m                         Traceback (most recent call last)",
      "Cell \u001b[1;32mIn[17], line 14\u001b[0m\n\u001b[0;32m     11\u001b[0m     \u001b[38;5;28;01mreturn\u001b[39;00m {atom\u001b[38;5;241m.\u001b[39mGetSymbol() \u001b[38;5;28;01mfor\u001b[39;00m atom \u001b[38;5;129;01min\u001b[39;00m mol\u001b[38;5;241m.\u001b[39mGetAtoms()}\n\u001b[0;32m     13\u001b[0m \u001b[38;5;66;03m# Apply to list\u001b[39;00m\n\u001b[1;32m---> 14\u001b[0m elements_per_smiles \u001b[38;5;241m=\u001b[39m [get_elements(smi) \u001b[38;5;28;01mfor\u001b[39;00m smi \u001b[38;5;129;01min\u001b[39;00m smiles_list]\n\u001b[0;32m     16\u001b[0m \u001b[38;5;66;03m# Optionally get full unique set across all molecules\u001b[39;00m\n\u001b[0;32m     17\u001b[0m all_elements \u001b[38;5;241m=\u001b[39m \u001b[38;5;28mset\u001b[39m()\u001b[38;5;241m.\u001b[39munion(\u001b[38;5;241m*\u001b[39melements_per_smiles)\n",
      "Cell \u001b[1;32mIn[17], line 14\u001b[0m, in \u001b[0;36m<listcomp>\u001b[1;34m(.0)\u001b[0m\n\u001b[0;32m     11\u001b[0m     \u001b[38;5;28;01mreturn\u001b[39;00m {atom\u001b[38;5;241m.\u001b[39mGetSymbol() \u001b[38;5;28;01mfor\u001b[39;00m atom \u001b[38;5;129;01min\u001b[39;00m mol\u001b[38;5;241m.\u001b[39mGetAtoms()}\n\u001b[0;32m     13\u001b[0m \u001b[38;5;66;03m# Apply to list\u001b[39;00m\n\u001b[1;32m---> 14\u001b[0m elements_per_smiles \u001b[38;5;241m=\u001b[39m [\u001b[43mget_elements\u001b[49m\u001b[43m(\u001b[49m\u001b[43msmi\u001b[49m\u001b[43m)\u001b[49m \u001b[38;5;28;01mfor\u001b[39;00m smi \u001b[38;5;129;01min\u001b[39;00m smiles_list]\n\u001b[0;32m     16\u001b[0m \u001b[38;5;66;03m# Optionally get full unique set across all molecules\u001b[39;00m\n\u001b[0;32m     17\u001b[0m all_elements \u001b[38;5;241m=\u001b[39m \u001b[38;5;28mset\u001b[39m()\u001b[38;5;241m.\u001b[39munion(\u001b[38;5;241m*\u001b[39melements_per_smiles)\n",
      "Cell \u001b[1;32mIn[17], line 11\u001b[0m, in \u001b[0;36mget_elements\u001b[1;34m(smiles)\u001b[0m\n\u001b[0;32m      9\u001b[0m \u001b[38;5;28;01mif\u001b[39;00m mol \u001b[38;5;129;01mis\u001b[39;00m \u001b[38;5;28;01mNone\u001b[39;00m:\n\u001b[0;32m     10\u001b[0m     \u001b[38;5;28;01mreturn\u001b[39;00m \u001b[38;5;28mset\u001b[39m()\n\u001b[1;32m---> 11\u001b[0m \u001b[38;5;28;01mreturn\u001b[39;00m {atom\u001b[38;5;241m.\u001b[39mGetSymbol() \u001b[38;5;28;01mfor\u001b[39;00m atom \u001b[38;5;129;01min\u001b[39;00m mol\u001b[38;5;241m.\u001b[39mGetAtoms()}\n",
      "Cell \u001b[1;32mIn[17], line 11\u001b[0m, in \u001b[0;36m<setcomp>\u001b[1;34m(.0)\u001b[0m\n\u001b[0;32m      9\u001b[0m \u001b[38;5;28;01mif\u001b[39;00m mol \u001b[38;5;129;01mis\u001b[39;00m \u001b[38;5;28;01mNone\u001b[39;00m:\n\u001b[0;32m     10\u001b[0m     \u001b[38;5;28;01mreturn\u001b[39;00m \u001b[38;5;28mset\u001b[39m()\n\u001b[1;32m---> 11\u001b[0m \u001b[38;5;28;01mreturn\u001b[39;00m {atom\u001b[38;5;241m.\u001b[39mGetSymbol() \u001b[38;5;28;01mfor\u001b[39;00m atom \u001b[38;5;129;01min\u001b[39;00m mol\u001b[38;5;241m.\u001b[39mGetAtoms()}\n",
      "File \u001b[1;32mc:\\Users\\kuuli\\anaconda3\\envs\\diffms\\lib\\site-packages\\rdkit\\Chem\\__init__.py:81\u001b[0m, in \u001b[0;36m_GetRDKitObjIterator.__iter__\u001b[1;34m(self)\u001b[0m\n\u001b[0;32m     79\u001b[0m \u001b[38;5;28;01mfor\u001b[39;00m i \u001b[38;5;129;01min\u001b[39;00m \u001b[38;5;28mrange\u001b[39m(\u001b[38;5;241m0\u001b[39m, \u001b[38;5;28mlen\u001b[39m(\u001b[38;5;28mself\u001b[39m)):\n\u001b[0;32m     80\u001b[0m   \u001b[38;5;28mself\u001b[39m\u001b[38;5;241m.\u001b[39m_pos \u001b[38;5;241m=\u001b[39m i\n\u001b[1;32m---> 81\u001b[0m   \u001b[38;5;28;01myield\u001b[39;00m \u001b[38;5;28;43mself\u001b[39;49m\u001b[43m[\u001b[49m\u001b[43mi\u001b[49m\u001b[43m]\u001b[49m\n\u001b[0;32m     82\u001b[0m \u001b[38;5;28mself\u001b[39m\u001b[38;5;241m.\u001b[39m_pos \u001b[38;5;241m=\u001b[39m \u001b[38;5;28mself\u001b[39m\u001b[38;5;241m.\u001b[39m_size\n",
      "File \u001b[1;32mc:\\Users\\kuuli\\anaconda3\\envs\\diffms\\lib\\site-packages\\rdkit\\Chem\\__init__.py:68\u001b[0m, in \u001b[0;36m_GetRDKitObjIterator.__getitem__\u001b[1;34m(self, i)\u001b[0m\n\u001b[0;32m     66\u001b[0m \u001b[38;5;28;01mif\u001b[39;00m i \u001b[38;5;241m<\u001b[39m \u001b[38;5;241m0\u001b[39m \u001b[38;5;129;01mor\u001b[39;00m i \u001b[38;5;241m>\u001b[39m\u001b[38;5;241m=\u001b[39m \u001b[38;5;28mlen\u001b[39m(\u001b[38;5;28mself\u001b[39m):\n\u001b[0;32m     67\u001b[0m   \u001b[38;5;28;01mraise\u001b[39;00m \u001b[38;5;167;01mIndexError\u001b[39;00m(\u001b[38;5;124m'\u001b[39m\u001b[38;5;124mindex out of range\u001b[39m\u001b[38;5;124m'\u001b[39m)\n\u001b[1;32m---> 68\u001b[0m \u001b[38;5;28;01mreturn\u001b[39;00m \u001b[38;5;28;43mself\u001b[39;49m\u001b[38;5;241;43m.\u001b[39;49m\u001b[43m_getRDKitItem\u001b[49m\u001b[43m(\u001b[49m\u001b[43mi\u001b[49m\u001b[43m)\u001b[49m\n",
      "File \u001b[1;32mc:\\Users\\kuuli\\anaconda3\\envs\\diffms\\lib\\site-packages\\rdkit\\Chem\\__init__.py:90\u001b[0m, in \u001b[0;36m_GetAtomsIterator._getRDKitItem\u001b[1;34m(self, i)\u001b[0m\n\u001b[0;32m     87\u001b[0m \u001b[38;5;28;01mdef\u001b[39;00m\u001b[38;5;250m \u001b[39m\u001b[38;5;21m_sizeCalc\u001b[39m(\u001b[38;5;28mself\u001b[39m):\n\u001b[0;32m     88\u001b[0m   \u001b[38;5;28;01mreturn\u001b[39;00m \u001b[38;5;28mself\u001b[39m\u001b[38;5;241m.\u001b[39m_mol\u001b[38;5;241m.\u001b[39mGetNumAtoms()\n\u001b[1;32m---> 90\u001b[0m \u001b[38;5;28;01mdef\u001b[39;00m\u001b[38;5;250m \u001b[39m\u001b[38;5;21m_getRDKitItem\u001b[39m(\u001b[38;5;28mself\u001b[39m, i):\n\u001b[0;32m     91\u001b[0m   \u001b[38;5;28;01mreturn\u001b[39;00m \u001b[38;5;28mself\u001b[39m\u001b[38;5;241m.\u001b[39m_mol\u001b[38;5;241m.\u001b[39mGetAtomWithIdx(i)\n",
      "\u001b[1;31mKeyboardInterrupt\u001b[0m: "
     ]
    }
   ],
   "source": [
    "\n",
    "from rdkit import Chem\n",
    "\n",
    "# Example list of SMILES\n",
    "smiles_list = df['SMILES'].values\n",
    "\n",
    "# Function to extract elements from a SMILES string\n",
    "def get_elements(smiles):\n",
    "    mol = Chem.MolFromSmiles(smiles)\n",
    "    if mol is None:\n",
    "        return set()\n",
    "    return {atom.GetSymbol() for atom in mol.GetAtoms()}\n",
    "\n",
    "# Apply to list\n",
    "elements_per_smiles = [get_elements(smi) for smi in smiles_list]\n",
    "\n",
    "# Optionally get full unique set across all molecules\n",
    "all_elements = set().union(*elements_per_smiles)\n",
    "\n",
    "# Print results\n",
    "for smi, elements in zip(smiles_list, elements_per_smiles):\n",
    "    print(f\"{smi} → {sorted(elements)}\")\n",
    "\n",
    "print(\"\\nAll unique elements across all SMILES:\", sorted(all_elements))"
   ]
  },
  {
   "cell_type": "code",
   "execution_count": null,
   "id": "68ee18cc",
   "metadata": {},
   "outputs": [
    {
     "ename": "Exception",
     "evalue": "",
     "output_type": "error",
     "traceback": [
      "\u001b[1;31m---------------------------------------------------------------------------\u001b[0m",
      "\u001b[1;31mException\u001b[0m                                 Traceback (most recent call last)",
      "Cell \u001b[1;32mIn[21], line 1\u001b[0m\n\u001b[1;32m----> 1\u001b[0m \u001b[38;5;28;01mraise\u001b[39;00m \u001b[38;5;167;01mException\u001b[39;00m\n",
      "\u001b[1;31mException\u001b[0m: "
     ]
    }
   ],
   "source": [
    "raise Exception"
   ]
  },
  {
   "cell_type": "code",
   "execution_count": null,
   "id": "312c589f",
   "metadata": {},
   "outputs": [],
   "source": [
    "morgan_generator = rdFingerprintGenerator.GetMorganGenerator(radius=2,fpSize=2048)"
   ]
  },
  {
   "cell_type": "code",
   "execution_count": null,
   "id": "3ebcc7a9",
   "metadata": {},
   "outputs": [
    {
     "name": "stderr",
     "output_type": "stream",
     "text": [
      "Computing fingerprints: 100%|██████████| 166434/166434 [00:02<00:00, 73354.61it/s]\n",
      "Checking for duplicates:   1%|          | 1593/166434 [03:23<5:51:18,  7.82it/s]\n"
     ]
    },
    {
     "ename": "KeyboardInterrupt",
     "evalue": "",
     "output_type": "error",
     "traceback": [
      "\u001b[0;31m---------------------------------------------------------------------------\u001b[0m",
      "\u001b[0;31mKeyboardInterrupt\u001b[0m                         Traceback (most recent call last)",
      "Cell \u001b[0;32mIn[80], line 8\u001b[0m\n\u001b[1;32m      6\u001b[0m \u001b[38;5;28;01mfor\u001b[39;00m i \u001b[38;5;129;01min\u001b[39;00m tqdm(\u001b[38;5;28mrange\u001b[39m(n), desc\u001b[38;5;241m=\u001b[39m\u001b[38;5;124m\"\u001b[39m\u001b[38;5;124mChecking for duplicates\u001b[39m\u001b[38;5;124m\"\u001b[39m):\n\u001b[1;32m      7\u001b[0m     \u001b[38;5;28;01mfor\u001b[39;00m j \u001b[38;5;129;01min\u001b[39;00m \u001b[38;5;28mrange\u001b[39m(i \u001b[38;5;241m+\u001b[39m \u001b[38;5;241m1\u001b[39m, n):\n\u001b[0;32m----> 8\u001b[0m         \u001b[38;5;28;01mif\u001b[39;00m \u001b[43mTanimotoSimilarity\u001b[49m\u001b[43m(\u001b[49m\u001b[43mfps\u001b[49m\u001b[43m[\u001b[49m\u001b[43mi\u001b[49m\u001b[43m]\u001b[49m\u001b[43m,\u001b[49m\u001b[43m \u001b[49m\u001b[43mfps\u001b[49m\u001b[43m[\u001b[49m\u001b[43mj\u001b[49m\u001b[43m]\u001b[49m\u001b[43m)\u001b[49m \u001b[38;5;241m==\u001b[39m \u001b[38;5;241m1.0\u001b[39m:\n\u001b[1;32m      9\u001b[0m             num_dupes \u001b[38;5;241m+\u001b[39m\u001b[38;5;241m=\u001b[39m \u001b[38;5;241m1\u001b[39m\n",
      "\u001b[0;31mKeyboardInterrupt\u001b[0m: "
     ]
    }
   ],
   "source": [
    "mols = df['mol'].values\n",
    "fps = [morgan_generator.GetFingerprint(mol) for mol in tqdm(mols, desc=\"Computing fingerprints\")]\n",
    "\n",
    "num_dupes = 0\n",
    "n = len(fps)\n",
    "for i in tqdm(range(n), desc=\"Checking for duplicates\"):\n",
    "    for j in range(i + 1, n):\n",
    "        if TanimotoSimilarity(fps[i], fps[j]) == 1.0:\n",
    "            num_dupes += 1  "
   ]
  },
  {
   "cell_type": "code",
   "execution_count": null,
   "id": "e56d678c",
   "metadata": {},
   "outputs": [],
   "source": [
    "print(num_dupes)"
   ]
  }
 ],
 "metadata": {
  "kernelspec": {
   "display_name": "diffms",
   "language": "python",
   "name": "python3"
  },
  "language_info": {
   "codemirror_mode": {
    "name": "ipython",
    "version": 3
   },
   "file_extension": ".py",
   "mimetype": "text/x-python",
   "name": "python",
   "nbconvert_exporter": "python",
   "pygments_lexer": "ipython3",
   "version": "3.9.22"
  }
 },
 "nbformat": 4,
 "nbformat_minor": 5
}
