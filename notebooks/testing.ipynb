{
 "cells": [
  {
   "cell_type": "code",
   "execution_count": null,
   "id": "a30da237",
   "metadata": {},
   "outputs": [
    {
     "name": "stderr",
     "output_type": "stream",
     "text": [
      "[14:11:42] DEPRECATION WARNING: please use MorganGenerator\n"
     ]
    },
    {
     "ename": "MemoryError",
     "evalue": "",
     "output_type": "error",
     "traceback": [
      "\u001b[1;31m---------------------------------------------------------------------------\u001b[0m",
      "\u001b[1;31mMemoryError\u001b[0m                               Traceback (most recent call last)",
      "Cell \u001b[1;32mIn[14], line 5\u001b[0m\n\u001b[0;32m      3\u001b[0m smiles \u001b[38;5;241m=\u001b[39m \u001b[38;5;124m'\u001b[39m\u001b[38;5;124mCC(=O)C(CC(O[N+](=O)[O-])(C(=O)O)C(C)(C)C(=O)OO[N+](=O)[O-])O[N+](=O)[O-]\u001b[39m\u001b[38;5;124m'\u001b[39m \u001b[38;5;66;03m# gecko_119052: C10H13N3O14\u001b[39;00m\n\u001b[0;32m      4\u001b[0m mol \u001b[38;5;241m=\u001b[39m MolFromSmiles(smiles)\n\u001b[1;32m----> 5\u001b[0m morgan_ones \u001b[38;5;241m=\u001b[39m \u001b[43mMorganFP\u001b[49m\u001b[43m(\u001b[49m\u001b[43mmol\u001b[49m\u001b[43m,\u001b[49m\u001b[43m \u001b[49m\u001b[43mradius\u001b[49m\u001b[38;5;241;43m=\u001b[39;49m\u001b[38;5;241;43m1000000000\u001b[39;49m\u001b[43m,\u001b[49m\u001b[43m \u001b[49m\u001b[43mnBits\u001b[49m\u001b[38;5;241;43m=\u001b[39;49m\u001b[38;5;241;43m2048\u001b[39;49m\u001b[43m)\u001b[49m\u001b[38;5;241m.\u001b[39mGetNumOnBits()\n\u001b[0;32m      6\u001b[0m rdkfp_ones \u001b[38;5;241m=\u001b[39m RDKFingerprint(mol, fpSize\u001b[38;5;241m=\u001b[39m\u001b[38;5;241m2048\u001b[39m)\u001b[38;5;241m.\u001b[39mGetNumOnBits()\n\u001b[0;32m      7\u001b[0m \u001b[38;5;28mprint\u001b[39m(\u001b[38;5;124mf\u001b[39m\u001b[38;5;124m\"\u001b[39m\u001b[38;5;124mMorgan fingerprint number of ones: \u001b[39m\u001b[38;5;132;01m{\u001b[39;00mmorgan_ones\u001b[38;5;132;01m}\u001b[39;00m\u001b[38;5;124m\"\u001b[39m)\n",
      "\u001b[1;31mMemoryError\u001b[0m: "
     ]
    }
   ],
   "source": [
    "from rdkit.Chem.AllChem import GetMorganFingerprintAsBitVect as MorganFP\n",
    "from rdkit.Chem import RDKFingerprint, MolFromSmiles\n",
    "smiles = 'CC(=O)C(CC(O[N+](=O)[O-])(C(=O)O)C(C)(C)C(=O)OO[N+](=O)[O-])O[N+](=O)[O-]' # gecko_119052: C10H13N3O14\n",
    "mol = MolFromSmiles(smiles)\n",
    "morgan_ones = MorganFP(mol, radius=10, nBits=2048).GetNumOnBits()\n",
    "rdkfp_ones = RDKFingerprint(mol, fpSize=2048).GetNumOnBits()\n",
    "print(f\"Morgan fingerprint number of ones: {morgan_ones}\")\n",
    "print(f\"RDKit fingerprint number of ones: {rdkfp_ones}\")"
   ]
  },
  {
   "cell_type": "code",
   "execution_count": null,
   "id": "9062292b",
   "metadata": {},
   "outputs": [
    {
     "name": "stderr",
     "output_type": "stream",
     "text": [
      "[11:04:22] Explicit valence for atom # 1 N, 4, is greater than permitted\n"
     ]
    }
   ],
   "source": [
    "\n",
    "# input with explicit charges\n",
    "#mol2 = Chem.MolFromSmiles(\"C[N+](=O)[O-]\")\n"
   ]
  },
  {
   "cell_type": "code",
   "execution_count": 39,
   "id": "6dc25b50",
   "metadata": {},
   "outputs": [
    {
     "data": {
      "image/png": "[encoded data removed]",
      "text/plain": [
       "<rdkit.Chem.rdchem.Mol at 0x25e64b699e0>"
      ]
     },
     "execution_count": 39,
     "metadata": {},
     "output_type": "execute_result"
    }
   ],
   "source": [
    "from rdkit import Chem\n",
    "from rdkit.Chem import Draw\n",
    "\n",
    "# Parse without sanitization\n",
    "mol_bad = Chem.MolFromSmiles(\"C-N(O)O\", sanitize=False)\n",
    "\n",
    "#Chem.AddHs(mol_bad)\n",
    "mol_bad"
   ]
  },
  {
   "cell_type": "code",
   "execution_count": null,
   "id": "beda751b",
   "metadata": {},
   "outputs": [
    {
     "data": {
      "image/png": "[encoded data removed]",
      "text/plain": [
       "<rdkit.Chem.rdchem.Mol at 0x25e64a8d3c0>"
      ]
     },
     "execution_count": 25,
     "metadata": {},
     "output_type": "execute_result"
    }
   ],
   "source": [
    "from rdkit import Chem\n",
    "from rdkit.Chem import Draw\n",
    "\n",
    "mol = Chem.MolFromSmiles(\"C-N(=O)=O\")\n",
    "\n",
    "Chem.AddHs(mol_bad)"
   ]
  },
  {
   "cell_type": "code",
   "execution_count": null,
   "id": "6f7d8926",
   "metadata": {},
   "outputs": [
    {
     "data": {
      "text/plain": [
       "\"<?xml version='1.0' encoding='iso-8859-1'?>\\n<svg version='1.1' baseProfile='full'\\n              xmlns='http://www.w3.org/2000/svg'\\n                      xmlns:rdkit='http://www.rdkit.org/xml'\\n                      xmlns:xlink='http://www.w3.org/1999/xlink'\\n                  xml:space='preserve'\\nwidth='300px' height='200px' viewBox='0 0 300 200'>\\n<!-- END OF HEADER -->\\n<rect style='opacity:1.0;fill:#FFFFFF;stroke:none' width='300.0' height='200.0' x='0.0' y='0.0'> </rect>\\n<path class='bond-0 atom-0 atom-1' d='M 56.5,175.2 L 92.9,154.1' style='fill:none;fill-rule:evenodd;stroke:#000000;stroke-width:2.0px;stroke-linecap:butt;stroke-linejoin:miter;stroke-opacity:1' />\\n<path class='bond-0 atom-0 atom-1' d='M 92.9,154.1 L 129.4,133.0' style='fill:none;fill-rule:evenodd;stroke:#0000FF;stroke-width:2.0px;stroke-linecap:butt;stroke-linejoin:miter;stroke-opacity:1' />\\n<path class='bond-1 atom-1 atom-2' d='M 153.8,139.6 L 182.1,155.9' style='fill:none;fill-rule:evenodd;stroke:#0000FF;stroke-width:2.0px;stroke-linecap:butt;stroke-linejoin:miter;stroke-opacity:1' />\\n<path class='bond-1 atom-1 atom-2' d='M 182.1,155.9 L 210.5,172.3' style='fill:none;fill-rule:evenodd;stroke:#FF0000;stroke-width:2.0px;stroke-linecap:butt;stroke-linejoin:miter;stroke-opacity:1' />\\n<path class='bond-1 atom-1 atom-2' d='M 161.3,126.5 L 189.7,142.9' style='fill:none;fill-rule:evenodd;stroke:#0000FF;stroke-width:2.0px;stroke-linecap:butt;stroke-linejoin:miter;stroke-opacity:1' />\\n<path class='bond-1 atom-1 atom-2' d='M 189.7,142.9 L 218.0,159.2' style='fill:none;fill-rule:evenodd;stroke:#FF0000;stroke-width:2.0px;stroke-linecap:butt;stroke-linejoin:miter;stroke-opacity:1' />\\n<path class='bond-2 atom-1 atom-3' d='M 151.0,107.4 L 151.0,75.0' style='fill:none;fill-rule:evenodd;stroke:#0000FF;stroke-width:2.0px;stroke-linecap:butt;stroke-linejoin:miter;stroke-opacity:1' />\\n<path class='bond-2 atom-1 atom-3' d='M 151.0,75.0 L 151.0,42.5' style='fill:none;fill-rule:evenodd;stroke:#FF0000;stroke-width:2.0px;stroke-linecap:butt;stroke-linejoin:miter;stroke-opacity:1' />\\n<path class='bond-2 atom-1 atom-3' d='M 136.0,107.4 L 136.0,75.0' style='fill:none;fill-rule:evenodd;stroke:#0000FF;stroke-width:2.0px;stroke-linecap:butt;stroke-linejoin:miter;stroke-opacity:1' />\\n<path class='bond-2 atom-1 atom-3' d='M 136.0,75.0 L 136.0,42.5' style='fill:none;fill-rule:evenodd;stroke:#FF0000;stroke-width:2.0px;stroke-linecap:butt;stroke-linejoin:miter;stroke-opacity:1' />\\n<path class='atom-1' d='M 137.2 110.7\\nL 146.5 125.7\\nQ 147.4 127.2, 148.9 129.9\\nQ 150.4 132.6, 150.5 132.7\\nL 150.5 110.7\\nL 154.2 110.7\\nL 154.2 139.1\\nL 150.4 139.1\\nL 140.4 122.7\\nQ 139.2 120.7, 138.0 118.5\\nQ 136.8 116.3, 136.4 115.7\\nL 136.4 139.1\\nL 132.8 139.1\\nL 132.8 110.7\\nL 137.2 110.7\\n' fill='#0000FF'/>\\n<path class='atom-2' d='M 217.5 175.2\\nQ 217.5 168.4, 220.9 164.6\\nQ 224.3 160.8, 230.5 160.8\\nQ 236.8 160.8, 240.2 164.6\\nQ 243.5 168.4, 243.5 175.2\\nQ 243.5 182.1, 240.1 186.0\\nQ 236.7 189.9, 230.5 189.9\\nQ 224.3 189.9, 220.9 186.0\\nQ 217.5 182.2, 217.5 175.2\\nM 230.5 186.7\\nQ 234.9 186.7, 237.2 183.8\\nQ 239.5 180.9, 239.5 175.2\\nQ 239.5 169.7, 237.2 166.9\\nQ 234.9 164.0, 230.5 164.0\\nQ 226.2 164.0, 223.9 166.8\\nQ 221.5 169.6, 221.5 175.2\\nQ 221.5 181.0, 223.9 183.8\\nQ 226.2 186.7, 230.5 186.7\\n' fill='#FF0000'/>\\n<path class='atom-3' d='M 130.5 24.5\\nQ 130.5 17.7, 133.9 13.9\\nQ 137.2 10.1, 143.5 10.1\\nQ 149.8 10.1, 153.1 13.9\\nQ 156.5 17.7, 156.5 24.5\\nQ 156.5 31.4, 153.1 35.3\\nQ 149.7 39.2, 143.5 39.2\\nQ 137.3 39.2, 133.9 35.3\\nQ 130.5 31.4, 130.5 24.5\\nM 143.5 36.0\\nQ 147.8 36.0, 150.1 33.1\\nQ 152.5 30.2, 152.5 24.5\\nQ 152.5 18.9, 150.1 16.1\\nQ 147.8 13.3, 143.5 13.3\\nQ 139.2 13.3, 136.8 16.1\\nQ 134.5 18.9, 134.5 24.5\\nQ 134.5 30.2, 136.8 33.1\\nQ 139.2 36.0, 143.5 36.0\\n' fill='#FF0000'/>\\n</svg>\\n\""
      ]
     },
     "execution_count": 31,
     "metadata": {},
     "output_type": "execute_result"
    }
   ],
   "source": [
    "from rdkit import Chem\n",
    "from rdkit.Chem import Draw\n",
    "from rdkit.Chem import Draw\n",
    "from rdkit.Chem.Draw import rdMolDraw2D\n",
    "\n",
    "# unsanitized\n",
    "mol1 = Chem.MolFromSmiles(\"C-N(=O)=O\", sanitize=False)\n",
    "drawer = rdMolDraw2D.MolDraw2DSVG(300, 200)\n",
    "rdMolDraw2D.PrepareAndDrawMolecule(drawer, mol1)\n",
    "drawer.FinishDrawing()\n",
    "svg = drawer.GetDrawingText()\n",
    "with open(\"mol1.svg\", \"w\") as f:\n",
    "    f.write(svg)"
   ]
  },
  {
   "cell_type": "code",
   "execution_count": null,
   "id": "db1d4310",
   "metadata": {},
   "outputs": [
    {
     "name": "stdout",
     "output_type": "stream",
     "text": [
      "C[N+](=O)[O-]\n"
     ]
    }
   ],
   "source": [
    "# sanitized\n",
    "mol2 = Chem.MolFromSmiles(\"C-N(=O)=O\", sanitize=True)\n",
    "drawer = rdMolDraw2D.MolDraw2DSVG(300, 200)\n",
    "rdMolDraw2D.PrepareAndDrawMolecule(drawer, mol2)\n",
    "drawer.FinishDrawing()\n",
    "svg = drawer.GetDrawingText()\n",
    "with open(\"mol2.svg\", \"w\") as f:\n",
    "    f.write(svg)\n",
    "print(Chem.MolToSmiles(mol2))"
   ]
  },
  {
   "cell_type": "code",
   "execution_count": 45,
   "id": "1201975a",
   "metadata": {},
   "outputs": [
    {
     "name": "stderr",
     "output_type": "stream",
     "text": [
      "[12:45:15] Explicit valence for atom # 1 N, 4, is greater than permitted\n"
     ]
    },
    {
     "ename": "ArgumentError",
     "evalue": "Python argument types in\n    rdkit.Chem.Draw.rdMolDraw2D.PrepareAndDrawMolecule(MolDraw2DSVG, NoneType)\ndid not match C++ signature:\n    PrepareAndDrawMolecule(class RDKit::MolDraw2D {lvalue} drawer, class RDKit::ROMol mol, class std::basic_string<char,struct std::char_traits<char>,class std::allocator<char> > legend='', class boost::python::api::object highlightAtoms=None, class boost::python::api::object highlightBonds=None, class boost::python::api::object highlightAtomColors=None, class boost::python::api::object highlightBondColors=None, class boost::python::api::object highlightAtomRadii=None, int confId=-1, bool kekulize=True)",
     "output_type": "error",
     "traceback": [
      "\u001b[1;31m---------------------------------------------------------------------------\u001b[0m",
      "\u001b[1;31mArgumentError\u001b[0m                             Traceback (most recent call last)",
      "Cell \u001b[1;32mIn[45], line 4\u001b[0m\n\u001b[0;32m      2\u001b[0m mol3 \u001b[38;5;241m=\u001b[39m Chem\u001b[38;5;241m.\u001b[39mMolFromSmiles(\u001b[38;5;124m\"\u001b[39m\u001b[38;5;124mC-N(=O)O\u001b[39m\u001b[38;5;124m\"\u001b[39m, sanitize\u001b[38;5;241m=\u001b[39m\u001b[38;5;28;01mTrue\u001b[39;00m)\n\u001b[0;32m      3\u001b[0m drawer \u001b[38;5;241m=\u001b[39m rdMolDraw2D\u001b[38;5;241m.\u001b[39mMolDraw2DSVG(\u001b[38;5;241m300\u001b[39m, \u001b[38;5;241m200\u001b[39m)\n\u001b[1;32m----> 4\u001b[0m \u001b[43mrdMolDraw2D\u001b[49m\u001b[38;5;241;43m.\u001b[39;49m\u001b[43mPrepareAndDrawMolecule\u001b[49m\u001b[43m(\u001b[49m\u001b[43mdrawer\u001b[49m\u001b[43m,\u001b[49m\u001b[43m \u001b[49m\u001b[43mmol3\u001b[49m\u001b[43m)\u001b[49m\n\u001b[0;32m      5\u001b[0m drawer\u001b[38;5;241m.\u001b[39mFinishDrawing()\n\u001b[0;32m      6\u001b[0m svg \u001b[38;5;241m=\u001b[39m drawer\u001b[38;5;241m.\u001b[39mGetDrawingText()\n",
      "\u001b[1;31mArgumentError\u001b[0m: Python argument types in\n    rdkit.Chem.Draw.rdMolDraw2D.PrepareAndDrawMolecule(MolDraw2DSVG, NoneType)\ndid not match C++ signature:\n    PrepareAndDrawMolecule(class RDKit::MolDraw2D {lvalue} drawer, class RDKit::ROMol mol, class std::basic_string<char,struct std::char_traits<char>,class std::allocator<char> > legend='', class boost::python::api::object highlightAtoms=None, class boost::python::api::object highlightBonds=None, class boost::python::api::object highlightAtomColors=None, class boost::python::api::object highlightBondColors=None, class boost::python::api::object highlightAtomRadii=None, int confId=-1, bool kekulize=True)"
     ]
    }
   ],
   "source": [
    "# sanitized\n",
    "mol3 = Chem.MolFromSmiles(\"C-N(=O)O\", sanitize=True)\n",
    "drawer = rdMolDraw2D.MolDraw2DSVG(300, 200)\n",
    "rdMolDraw2D.PrepareAndDrawMolecule(drawer, mol3)\n",
    "drawer.FinishDrawing()\n",
    "svg = drawer.GetDrawingText()\n",
    "with open(\"mol3.svg\", \"w\") as f:\n",
    "    f.write(svg)\n",
    "print(Chem.MolToSmiles(mol3))\n",
    "mol3"
   ]
  }
 ],
 "metadata": {
  "kernelspec": {
   "display_name": "diffms",
   "language": "python",
   "name": "python3"
  },
  "language_info": {
   "codemirror_mode": {
    "name": "ipython",
    "version": 3
   },
   "file_extension": ".py",
   "mimetype": "text/x-python",
   "name": "python",
   "nbconvert_exporter": "python",
   "pygments_lexer": "ipython3",
   "version": "3.9.22"
  }
 },
 "nbformat": 4,
 "nbformat_minor": 5
}
