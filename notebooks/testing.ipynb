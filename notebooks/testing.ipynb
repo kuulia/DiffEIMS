{
 "cells": [
  {
   "cell_type": "code",
   "execution_count": 2,
   "id": "a30da237",
   "metadata": {},
   "outputs": [
    {
     "name": "stdout",
     "output_type": "stream",
     "text": [
      "Morgan fingerprint number of ones: 60\n",
      "RDKit fingerprint number of ones: 785\n"
     ]
    },
    {
     "name": "stderr",
     "output_type": "stream",
     "text": [
      "[13:24:32] DEPRECATION WARNING: please use MorganGenerator\n"
     ]
    }
   ],
   "source": [
    "from rdkit.Chem.AllChem import GetMorganFingerprintAsBitVect as MorganFP\n",
    "from rdkit.Chem import RDKFingerprint, MolFromSmiles\n",
    "smiles = 'CC(=O)C(CC(O[N+](=O)[O-])(C(=O)O)C(C)(C)C(=O)OO[N+](=O)[O-])O[N+](=O)[O-]' # gecko_119052: C10H13N3O14\n",
    "mol = MolFromSmiles(smiles)\n",
    "morgan_ones = MorganFP(mol, radius=10, nBits=2048).GetNumOnBits()\n",
    "rdkfp_ones = RDKFingerprint(mol, fpSize=2048).GetNumOnBits()\n",
    "print(f\"Morgan fingerprint number of ones: {morgan_ones}\")\n",
    "print(f\"RDKit fingerprint number of ones: {rdkfp_ones}\")"
   ]
  },
  {
   "cell_type": "code",
   "execution_count": 3,
   "id": "9062292b",
   "metadata": {},
   "outputs": [],
   "source": [
    "\n",
    "# input with explicit charges\n",
    "#mol2 = Chem.MolFromSmiles(\"C[N+](=O)[O-]\")\n"
   ]
  },
  {
   "cell_type": "code",
   "execution_count": 4,
   "id": "6dc25b50",
   "metadata": {},
   "outputs": [
    {
     "data": {
      "image/png": "[encoded data removed]",
      "text/plain": [
       "<rdkit.Chem.rdchem.Mol at 0x7f692fe50580>"
      ]
     },
     "execution_count": 4,
     "metadata": {},
     "output_type": "execute_result"
    }
   ],
   "source": [
    "from rdkit import Chem\n",
    "from rdkit.Chem import Draw\n",
    "\n",
    "# Parse without sanitization\n",
    "mol_bad = Chem.MolFromSmiles(\"C-N(O)O\", sanitize=False)\n",
    "\n",
    "#Chem.AddHs(mol_bad)\n",
    "mol_bad"
   ]
  },
  {
   "cell_type": "code",
   "execution_count": 5,
   "id": "beda751b",
   "metadata": {},
   "outputs": [
    {
     "data": {
      "image/png": "[encoded data removed]",
      "text/plain": [
       "<rdkit.Chem.rdchem.Mol at 0x7f692fe504a0>"
      ]
     },
     "execution_count": 5,
     "metadata": {},
     "output_type": "execute_result"
    }
   ],
   "source": [
    "from rdkit import Chem\n",
    "from rdkit.Chem import Draw\n",
    "\n",
    "mol = Chem.MolFromSmiles(\"C-N(=O)=O\")\n",
    "\n",
    "Chem.AddHs(mol_bad)"
   ]
  },
  {
   "cell_type": "code",
   "execution_count": 6,
   "id": "6f7d8926",
   "metadata": {},
   "outputs": [],
   "source": [
    "from rdkit import Chem\n",
    "from rdkit.Chem import Draw\n",
    "from rdkit.Chem import Draw\n",
    "from rdkit.Chem.Draw import rdMolDraw2D\n",
    "\n",
    "# unsanitized\n",
    "mol1 = Chem.MolFromSmiles(\"C-N(=O)=O\", sanitize=False)\n",
    "drawer = rdMolDraw2D.MolDraw2DSVG(300, 200)\n",
    "rdMolDraw2D.PrepareAndDrawMolecule(drawer, mol1)\n",
    "drawer.FinishDrawing()\n",
    "svg = drawer.GetDrawingText()\n",
    "with open(\"mol1.svg\", \"w\") as f:\n",
    "    f.write(svg)"
   ]
  },
  {
   "cell_type": "code",
   "execution_count": 7,
   "id": "db1d4310",
   "metadata": {},
   "outputs": [
    {
     "name": "stdout",
     "output_type": "stream",
     "text": [
      "C[N+](=O)[O-]\n"
     ]
    }
   ],
   "source": [
    "# sanitized\n",
    "mol2 = Chem.MolFromSmiles(\"C-N(=O)=O\", sanitize=True)\n",
    "drawer = rdMolDraw2D.MolDraw2DSVG(300, 200)\n",
    "rdMolDraw2D.PrepareAndDrawMolecule(drawer, mol2)\n",
    "drawer.FinishDrawing()\n",
    "svg = drawer.GetDrawingText()\n",
    "with open(\"mol2.svg\", \"w\") as f:\n",
    "    f.write(svg)\n",
    "print(Chem.MolToSmiles(mol2))"
   ]
  },
  {
   "cell_type": "code",
   "execution_count": 8,
   "id": "1201975a",
   "metadata": {},
   "outputs": [
    {
     "name": "stderr",
     "output_type": "stream",
     "text": [
      "[13:24:32] Explicit valence for atom # 1 N, 4, is greater than permitted\n"
     ]
    },
    {
     "ename": "ArgumentError",
     "evalue": "Python argument types in\n    rdkit.Chem.Draw.rdMolDraw2D.PrepareAndDrawMolecule(MolDraw2DSVG, NoneType)\ndid not match C++ signature:\n    PrepareAndDrawMolecule(RDKit::MolDraw2D {lvalue} drawer, RDKit::ROMol mol, std::__cxx11::basic_string<char, std::char_traits<char>, std::allocator<char> > legend='', boost::python::api::object highlightAtoms=None, boost::python::api::object highlightBonds=None, boost::python::api::object highlightAtomColors=None, boost::python::api::object highlightBondColors=None, boost::python::api::object highlightAtomRadii=None, int confId=-1, bool kekulize=True)",
     "output_type": "error",
     "traceback": [
      "\u001b[0;31m---------------------------------------------------------------------------\u001b[0m",
      "\u001b[0;31mArgumentError\u001b[0m                             Traceback (most recent call last)",
      "Cell \u001b[0;32mIn[8], line 4\u001b[0m\n\u001b[1;32m      2\u001b[0m mol3 \u001b[38;5;241m=\u001b[39m Chem\u001b[38;5;241m.\u001b[39mMolFromSmiles(\u001b[38;5;124m\"\u001b[39m\u001b[38;5;124mC-N(=O)O\u001b[39m\u001b[38;5;124m\"\u001b[39m, sanitize\u001b[38;5;241m=\u001b[39m\u001b[38;5;28;01mTrue\u001b[39;00m)\n\u001b[1;32m      3\u001b[0m drawer \u001b[38;5;241m=\u001b[39m rdMolDraw2D\u001b[38;5;241m.\u001b[39mMolDraw2DSVG(\u001b[38;5;241m300\u001b[39m, \u001b[38;5;241m200\u001b[39m)\n\u001b[0;32m----> 4\u001b[0m \u001b[43mrdMolDraw2D\u001b[49m\u001b[38;5;241;43m.\u001b[39;49m\u001b[43mPrepareAndDrawMolecule\u001b[49m\u001b[43m(\u001b[49m\u001b[43mdrawer\u001b[49m\u001b[43m,\u001b[49m\u001b[43m \u001b[49m\u001b[43mmol3\u001b[49m\u001b[43m)\u001b[49m\n\u001b[1;32m      5\u001b[0m drawer\u001b[38;5;241m.\u001b[39mFinishDrawing()\n\u001b[1;32m      6\u001b[0m svg \u001b[38;5;241m=\u001b[39m drawer\u001b[38;5;241m.\u001b[39mGetDrawingText()\n",
      "\u001b[0;31mArgumentError\u001b[0m: Python argument types in\n    rdkit.Chem.Draw.rdMolDraw2D.PrepareAndDrawMolecule(MolDraw2DSVG, NoneType)\ndid not match C++ signature:\n    PrepareAndDrawMolecule(RDKit::MolDraw2D {lvalue} drawer, RDKit::ROMol mol, std::__cxx11::basic_string<char, std::char_traits<char>, std::allocator<char> > legend='', boost::python::api::object highlightAtoms=None, boost::python::api::object highlightBonds=None, boost::python::api::object highlightAtomColors=None, boost::python::api::object highlightBondColors=None, boost::python::api::object highlightAtomRadii=None, int confId=-1, bool kekulize=True)"
     ]
    }
   ],
   "source": [
    "# sanitized\n",
    "mol3 = Chem.MolFromSmiles(\"C-N(=O)O\", sanitize=True)\n",
    "drawer = rdMolDraw2D.MolDraw2DSVG(300, 200)\n",
    "rdMolDraw2D.PrepareAndDrawMolecule(drawer, mol3)\n",
    "drawer.FinishDrawing()\n",
    "svg = drawer.GetDrawingText()\n",
    "with open(\"mol3.svg\", \"w\") as f:\n",
    "    f.write(svg)\n",
    "print(Chem.MolToSmiles(mol3))\n",
    "mol3"
   ]
  },
  {
   "cell_type": "code",
   "execution_count": null,
   "id": "156b8f49",
   "metadata": {},
   "outputs": [
    {
     "name": "stdout",
     "output_type": "stream",
     "text": [
      "CCO\n"
     ]
    }
   ],
   "source": [
    "# sanitized\n",
    "mol2 = Chem.MolFromSmiles(\"CCO\")\n",
    "drawer = rdMolDraw2D.MolDraw2DSVG(300, 200)\n",
    "rdMolDraw2D.PrepareAndDrawMolecule(drawer, mol2)\n",
    "drawer.FinishDrawing()\n",
    "svg = drawer.GetDrawingText()\n",
    "with open(\"mol_ethanol.svg\", \"w\") as f:\n",
    "    f.write(svg)\n",
    "print(Chem.MolToSmiles(mol2))"
   ]
  },
  {
   "cell_type": "code",
   "execution_count": null,
   "id": "c671c71e",
   "metadata": {},
   "outputs": [
    {
     "name": "stdout",
     "output_type": "stream",
     "text": [
      "CCCCCC\n"
     ]
    }
   ],
   "source": [
    "# sanitized\n",
    "mol2 = Chem.MolFromSmiles(\"CCCCCC\")\n",
    "drawer = rdMolDraw2D.MolDraw2DSVG(300, 200)\n",
    "rdMolDraw2D.PrepareAndDrawMolecule(drawer, mol2)\n",
    "drawer.FinishDrawing()\n",
    "svg = drawer.GetDrawingText()\n",
    "with open(\"mol_hexane.svg\", \"w\") as f:\n",
    "    f.write(svg)\n",
    "print(Chem.MolToSmiles(mol2))"
   ]
  },
  {
   "cell_type": "code",
   "execution_count": null,
   "id": "ca475190",
   "metadata": {},
   "outputs": [
    {
     "name": "stdout",
     "output_type": "stream",
     "text": [
      "c1ccccc1\n"
     ]
    }
   ],
   "source": [
    "# sanitized\n",
    "mol2 = Chem.MolFromSmiles(\"c1ccccc1\")\n",
    "drawer = rdMolDraw2D.MolDraw2DSVG(300, 200)\n",
    "rdMolDraw2D.PrepareAndDrawMolecule(drawer, mol2)\n",
    "drawer.FinishDrawing()\n",
    "svg = drawer.GetDrawingText()\n",
    "with open(\"mol_benzene.svg\", \"w\") as f:\n",
    "    f.write(svg)\n",
    "print(Chem.MolToSmiles(mol2))"
   ]
  },
  {
   "cell_type": "code",
   "execution_count": 15,
   "id": "f8420a57",
   "metadata": {},
   "outputs": [],
   "source": [
    "isoprene = \"CC(=C)C=C\"  # CH2=C(CH3)-CH=CH2\n",
    "first_radical = \"CC(CO)(O[O])C=C\"  # Radical on the terminal carbon\n",
    "second_radical = 'CC([O])(CO)C=C'\n",
    "ROOR_AP = '[H]OC([H])([H])C(OOC([H])([H])C(C([H])=C([H])[H])(C([H])([H])[H])C([H])([H])O[H])(C([H])=C([H])[H])C([H])([H])[H]'\n",
    "labels = ['Isoprene', 'Peroxy Radical', 'Alkoxy Radical', 'ROOR-type Accretion Product']"
   ]
  },
  {
   "cell_type": "code",
   "execution_count": 11,
   "id": "c157ba6a",
   "metadata": {},
   "outputs": [
    {
     "name": "stdout",
     "output_type": "stream",
     "text": [
      "C=CC(=C)C\n"
     ]
    }
   ],
   "source": [
    "# sanitized\n",
    "mol2 = Chem.MolFromSmiles(isoprene)\n",
    "drawer = rdMolDraw2D.MolDraw2DSVG(300, 200)\n",
    "rdMolDraw2D.PrepareAndDrawMolecule(drawer, mol2)\n",
    "drawer.FinishDrawing()\n",
    "svg = drawer.GetDrawingText()\n",
    "with open(\"isoprene.svg\", \"w\") as f:\n",
    "    f.write(svg)\n",
    "print(Chem.MolToSmiles(mol2))"
   ]
  },
  {
   "cell_type": "code",
   "execution_count": 12,
   "id": "3104cfc2",
   "metadata": {},
   "outputs": [
    {
     "name": "stdout",
     "output_type": "stream",
     "text": [
      "C=CC(C)(CO)O[O]\n"
     ]
    }
   ],
   "source": [
    "# sanitized\n",
    "mol2 = Chem.MolFromSmiles(first_radical)\n",
    "drawer = rdMolDraw2D.MolDraw2DSVG(300, 200)\n",
    "rdMolDraw2D.PrepareAndDrawMolecule(drawer, mol2)\n",
    "drawer.FinishDrawing()\n",
    "svg = drawer.GetDrawingText()\n",
    "with open(\"peroxy_radical.svg\", \"w\") as f:\n",
    "    f.write(svg)\n",
    "print(Chem.MolToSmiles(mol2))"
   ]
  },
  {
   "cell_type": "code",
   "execution_count": 13,
   "id": "2936bef1",
   "metadata": {},
   "outputs": [
    {
     "name": "stdout",
     "output_type": "stream",
     "text": [
      "C=CC(C)([O])CO\n"
     ]
    }
   ],
   "source": [
    "# sanitized\n",
    "mol2 = Chem.MolFromSmiles(second_radical)\n",
    "drawer = rdMolDraw2D.MolDraw2DSVG(300, 200)\n",
    "rdMolDraw2D.PrepareAndDrawMolecule(drawer, mol2)\n",
    "drawer.FinishDrawing()\n",
    "svg = drawer.GetDrawingText()\n",
    "with open(\"alkoxy_radical.svg\", \"w\") as f:\n",
    "    f.write(svg)\n",
    "print(Chem.MolToSmiles(mol2))"
   ]
  },
  {
   "cell_type": "code",
   "execution_count": 16,
   "id": "e18cebe8",
   "metadata": {},
   "outputs": [
    {
     "name": "stdout",
     "output_type": "stream",
     "text": [
      "C=CC(C)(CO)COOC(C)(C=C)CO\n"
     ]
    }
   ],
   "source": [
    "# sanitized\n",
    "mol2 = Chem.MolFromSmiles(ROOR_AP)\n",
    "drawer = rdMolDraw2D.MolDraw2DSVG(300, 200)\n",
    "rdMolDraw2D.PrepareAndDrawMolecule(drawer, mol2)\n",
    "drawer.FinishDrawing()\n",
    "svg = drawer.GetDrawingText()\n",
    "with open(\"roor_prod.svg\", \"w\") as f:\n",
    "    f.write(svg)\n",
    "print(Chem.MolToSmiles(mol2))"
   ]
  }
 ],
 "metadata": {
  "kernelspec": {
   "display_name": "diffms",
   "language": "python",
   "name": "python3"
  },
  "language_info": {
   "codemirror_mode": {
    "name": "ipython",
    "version": 3
   },
   "file_extension": ".py",
   "mimetype": "text/x-python",
   "name": "python",
   "nbconvert_exporter": "python",
   "pygments_lexer": "ipython3",
   "version": "3.9.22"
  }
 },
 "nbformat": 4,
 "nbformat_minor": 5
}
