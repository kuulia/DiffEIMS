{
 "cells": [
  {
   "cell_type": "code",
   "execution_count": 1,
   "id": "d61efaeb",
   "metadata": {},
   "outputs": [],
   "source": [
    "import sys \n",
    "sys.path.append('../src')\n",
    "sys.path\n",
    "\n",
    "import hydra\n",
    "import torch\n",
    "from src.diffusion_model_spec2mol import Spec2MolDenoisingDiffusion\n",
    "from src.datasets import spec2mol_dataset\n",
    "from src import utils\n",
    "from omegaconf import OmegaConf\n",
    "# Setup extra features, domain features, metrics etc. as in your main script\n",
    "from src.diffusion.extra_features import DummyExtraFeatures, ExtraFeatures\n",
    "from src.diffusion.extra_features_molecular import ExtraMolecularFeatures\n",
    "from src.metrics.molecular_metrics_discrete import TrainMolecularMetricsDiscrete\n",
    "from src.analysis.visualization import MolecularVisualization\n",
    "from rdkit import RDLogger\n",
    "RDLogger.DisableLog('rdApp.*')"
   ]
  },
  {
   "cell_type": "code",
   "execution_count": 2,
   "id": "1e2ead2c",
   "metadata": {},
   "outputs": [
    {
     "name": "stdout",
     "output_type": "stream",
     "text": [
      "{'name': 'neims_eval', 'remove_h': None, 'stats_dir': None, 'datadir': '../data/neims', 'filter': False, 'denoise_nodes': False, 'merge': 'downproject_4096', 'morgan_nbits': 2048, 'morgan_r': 2, 'split_file': '../data/neims/split.tsv', 'spec_features': 'peakformula', 'mol_features': 'fingerprint', 'subform_folder': '../data/neims/subformulae/subformulae_default/subforms', 'augment_data': False, 'remove_prob': 0.1, 'remove_weights': 'exp', 'inten_prob': 0.1, 'inten_transform': 'float', 'cls_type': 'ms1', 'magma_aux_loss': False, 'labels_file': '../data/neims/labels.tsv', 'spec_folder': '../data/neims/spec_files', 'cache_featurizers': False, 'set_pooling': 'cls', 'max_count': None, 'collated_pkl': True, 'collated_pkl_file': 'df_neims_gecko_3_9_22.pkl'}\n"
     ]
    }
   ],
   "source": [
    "# Load config from your config file (adjust path accordingly)\n",
    "hydra.initialize(version_base='1.3', config_path=\"../configs\")  # relative to your current working directory\n",
    "\n",
    "# Compose the config by name\n",
    "cfg = hydra.compose(config_name=\"config\")\n",
    "\n",
    "print(cfg.dataset)"
   ]
  },
  {
   "cell_type": "code",
   "execution_count": 3,
   "id": "5f81ccd3",
   "metadata": {},
   "outputs": [
    {
     "name": "stderr",
     "output_type": "stream",
     "text": [
      "100%|██████████| 166434/166434 [00:14<00:00, 11488.32it/s]\n",
      "166434it [00:07, 23213.69it/s]\n",
      "166434it [00:00, 7669465.96it/s]\n"
     ]
    },
    {
     "name": "stdout",
     "output_type": "stream",
     "text": [
      "Model loaded and in eval mode, ready for inference or evaluation.\n"
     ]
    }
   ],
   "source": [
    "# Initialize datamodule and dataset infos to build model correctly\n",
    "datamodule = spec2mol_dataset.Spec2MolDataModule(cfg)\n",
    "dataset_infos = spec2mol_dataset.Spec2MolDatasetInfos(datamodule, cfg)\n",
    "\n",
    "domain_features = ExtraMolecularFeatures(dataset_infos=dataset_infos)\n",
    "if cfg.model.extra_features is not None:\n",
    "    extra_features = ExtraFeatures(cfg.model.extra_features, dataset_info=dataset_infos)\n",
    "else:\n",
    "    extra_features = DummyExtraFeatures()\n",
    "\n",
    "dataset_infos.compute_input_output_dims(datamodule=datamodule, extra_features=extra_features, domain_features=domain_features)\n",
    "train_metrics = TrainMolecularMetricsDiscrete(dataset_infos)\n",
    "visualization_tools = MolecularVisualization(cfg.dataset.remove_h, dataset_infos=dataset_infos)\n",
    "\n",
    "model_kwargs = {\n",
    "    'dataset_infos': dataset_infos,\n",
    "    'train_metrics': train_metrics,\n",
    "    'visualization_tools': visualization_tools,\n",
    "    'extra_features': extra_features,\n",
    "    'domain_features': domain_features,\n",
    "    'map_location': torch.device('cpu')\n",
    "}\n",
    "\n",
    "# Load the model from checkpoint\n",
    "checkpoint_path = '../data/checkpoints/checkpoints/epoch=6.ckpt'\n",
    "model = Spec2MolDenoisingDiffusion.load_from_checkpoint(checkpoint_path, **model_kwargs)\n",
    "\n",
    "# Put model in evaluation mode\n",
    "model.eval()\n",
    "\n",
    "# Now you can run evaluation or inference here\n",
    "# For example:\n",
    "# trainer.test(model, datamodule=datamodule, ckpt_path=checkpoint_path)\n",
    "\n",
    "print(\"Model loaded and in eval mode, ready for inference or evaluation.\")\n",
    "# Prepare batch (example)\n",
    "batch = next(iter(datamodule.test_dataloader()))"
   ]
  },
  {
   "cell_type": "code",
   "execution_count": null,
   "id": "a8076682",
   "metadata": {},
   "outputs": [],
   "source": [
    "batch"
   ]
  },
  {
   "cell_type": "code",
   "execution_count": null,
   "id": "8dababaa",
   "metadata": {},
   "outputs": [
    {
     "name": "stdout",
     "output_type": "stream",
     "text": [
      "noisy data: X_t, E_t, y_t:  torch.Size([24, 26, 8]) torch.Size([24, 26, 26, 5]) torch.Size([24, 2048])\n",
      "extra_data.X:  torch.Size([24, 26, 6])\n",
      "node_mask:  torch.Size([24, 26])\n"
     ]
    },
    {
     "name": "stderr",
     "output_type": "stream",
     "text": [
      "                        \r"
     ]
    }
   ],
   "source": [
    "data = batch['graph']\n",
    "\n",
    "# 1) Convert to dense\n",
    "dense_data, node_mask = utils.to_dense(data.x, data.edge_index, data.edge_attr, data.batch)  # dense_data.X [B, N, Xdim], dense_data.E [B, N, N, Edim]\n",
    "\n",
    "dense_data = dense_data.mask(node_mask)  # apply mask to dense data (if needed)\n",
    "\n",
    "X, E = dense_data.X, dense_data.E\n",
    "y = data.y.float()  # or your target y tensor\n",
    "\n",
    "# 2) Optionally apply noise (or identity if just inference)\n",
    "# If you want to skip noise, just use identity:\n",
    "noisy_data = {'X_t': X, 'E_t': E, 'y_t': y, 'node_mask': node_mask}\n",
    "\n",
    "# 3) Compute extra features\n",
    "extra_data = extra_features(noisy_data)  # returns utils.PlaceHolder with X, E, y\n",
    "\n",
    "print('noisy data: X_t, E_t, y_t: ', noisy_data['X_t'].shape, noisy_data['E_t'].shape, noisy_data['y_t'].shape)\n",
    "print('extra_data.X: ', extra_data.X.shape)\n",
    "print('node_mask: ', node_mask.shape)\n",
    "with torch.no_grad():\n",
    "    output, aux = model.encoder(batch)\n",
    "\n",
    "    # Predict fingerprint (depending on `model.merge`)\n",
    "    if model.merge == 'mist_fp':\n",
    "        y = aux[\"int_preds\"][-1]\n",
    "    elif model.merge in ('merge-encoder_output-linear', 'merge-encoder_output-mlp'):\n",
    "        y = model.merge_function(aux['h0'])\n",
    "    elif model.merge == 'downproject_4096':\n",
    "        y = model.merge_function(output)\n",
    "    \n",
    "        # Graph generation\n",
    "    data = batch[\"graph\"]\n",
    "    data.y = y\n",
    "    generated_mols = [list() for _ in range(len(data))]\n",
    "    for _ in range(model.test_num_samples):\n",
    "        for idx, mol in enumerate(model.sample_batch(data)):\n",
    "            generated_mols[idx].append(mol)\n",
    "\n",
    "    "
   ]
  },
  {
   "cell_type": "code",
   "execution_count": 20,
   "id": "a2b800fe",
   "metadata": {},
   "outputs": [],
   "source": [
    "torch.save(y, 'predicted_fingerprints.pt')\n"
   ]
  },
  {
   "cell_type": "code",
   "execution_count": 21,
   "id": "79f5a0ce",
   "metadata": {},
   "outputs": [],
   "source": [
    "import pickle\n",
    "with open(\"generated_mols.pkl\", \"wb\") as f:\n",
    "    pickle.dump(generated_mols, f)"
   ]
  },
  {
   "cell_type": "code",
   "execution_count": 27,
   "id": "fe83f73b",
   "metadata": {},
   "outputs": [],
   "source": [
    "with open('batch_names.txt', 'w+') as file:\n",
    "    for name in batch['names']:\n",
    "        file.writelines(name + '\\n')"
   ]
  },
  {
   "cell_type": "code",
   "execution_count": 23,
   "id": "3cf63709",
   "metadata": {},
   "outputs": [
    {
     "data": {
      "text/plain": [
       "24"
      ]
     },
     "execution_count": 23,
     "metadata": {},
     "output_type": "execute_result"
    }
   ],
   "source": [
    "len(generated_mols)"
   ]
  },
  {
   "cell_type": "code",
   "execution_count": 41,
   "id": "a48a4539",
   "metadata": {},
   "outputs": [],
   "source": [
    "import numpy as np\n",
    "with open('fp.txt', 'w+') as file:\n",
    "    for tens in y:\n",
    "        str_out = ''\n",
    "        for el in (np.array(tens) >= 0.5).astype(np.uint8):\n",
    "            str_out += f'{int(el)} '\n",
    "        file.writelines(str_out + '\\n')"
   ]
  },
  {
   "cell_type": "code",
   "execution_count": 47,
   "id": "c614047c",
   "metadata": {},
   "outputs": [
    {
     "data": {
      "image/png": "[encoded data removed]",
      "text/plain": [
       "<rdkit.Chem.rdchem.Mol at 0x7ff141f71660>"
      ]
     },
     "execution_count": 47,
     "metadata": {},
     "output_type": "execute_result"
    }
   ],
   "source": [
    "generated_mols[0][4]"
   ]
  },
  {
   "cell_type": "code",
   "execution_count": null,
   "id": "77d7548b",
   "metadata": {},
   "outputs": [],
   "source": [
    " \n"
   ]
  }
 ],
 "metadata": {
  "kernelspec": {
   "display_name": "diffms",
   "language": "python",
   "name": "python3"
  },
  "language_info": {
   "codemirror_mode": {
    "name": "ipython",
    "version": 3
   },
   "file_extension": ".py",
   "mimetype": "text/x-python",
   "name": "python",
   "nbconvert_exporter": "python",
   "pygments_lexer": "ipython3",
   "version": "3.9.22"
  }
 },
 "nbformat": 4,
 "nbformat_minor": 5
}
