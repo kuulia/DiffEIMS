{
 "cells": [
  {
   "cell_type": "code",
   "execution_count": 26,
   "id": "0fdca191",
   "metadata": {},
   "outputs": [],
   "source": [
    "import pickle as pkl\n",
    "import pandas as pd \n",
    "import numpy as np\n",
    "from tqdm import tqdm \n",
    "from rdkit.Chem import MolFromSmiles, rdFingerprintGenerator\n",
    "from rdkit.DataStructs import TanimotoSimilarity, BulkTanimotoSimilarity\n",
    "np.random.seed(seed=42)"
   ]
  },
  {
   "cell_type": "code",
   "execution_count": 27,
   "id": "8cca357f",
   "metadata": {},
   "outputs": [
    {
     "name": "stdout",
     "output_type": "stream",
     "text": [
      "train: 83.996383 %\n",
      "test: 7.596580 %\n",
      "val: 8.407038 %\n"
     ]
    }
   ],
   "source": [
    "msgdf = pd.read_csv('../data/msg/split.tsv', sep = '\\t', index_col='name')\n",
    "train, val, test = pd.value_counts(msgdf['split'])\n",
    "df_msg_len = train + val + test\n",
    "train_p  = train / df_msg_len\n",
    "val_p = val / df_msg_len\n",
    "test_p = test / df_msg_len\n",
    "print(f'train: {train_p* 100:2f} %\\ntest: {test_p* 100:2f} %\\nval: {val_p* 100:2f} %')"
   ]
  },
  {
   "cell_type": "code",
   "execution_count": 28,
   "id": "5dd95bcf",
   "metadata": {},
   "outputs": [
    {
     "data": {
      "text/html": [
       "<div>\n",
       "<style scoped>\n",
       "    .dataframe tbody tr th:only-of-type {\n",
       "        vertical-align: middle;\n",
       "    }\n",
       "\n",
       "    .dataframe tbody tr th {\n",
       "        vertical-align: top;\n",
       "    }\n",
       "\n",
       "    .dataframe thead th {\n",
       "        text-align: right;\n",
       "    }\n",
       "</style>\n",
       "<table border=\"1\" class=\"dataframe\">\n",
       "  <thead>\n",
       "    <tr style=\"text-align: right;\">\n",
       "      <th></th>\n",
       "      <th>SMILES</th>\n",
       "      <th>spec</th>\n",
       "    </tr>\n",
       "  </thead>\n",
       "  <tbody>\n",
       "    <tr>\n",
       "      <th>0</th>\n",
       "      <td>C=O</td>\n",
       "      <td>[[14, 15, 16, 18, 19, 25, 26, 27, 28, 29, 30, ...</td>\n",
       "    </tr>\n",
       "    <tr>\n",
       "      <th>1</th>\n",
       "      <td>O=C[N+](=O)[O-]</td>\n",
       "      <td>[[14, 16, 17, 18, 19, 27, 28, 29, 30, 31, 32, ...</td>\n",
       "    </tr>\n",
       "    <tr>\n",
       "      <th>2</th>\n",
       "      <td>O=CC(=O)[N+](=O)[O-]</td>\n",
       "      <td>[[14, 15, 16, 17, 18, 19, 25, 27, 28, 29, 30, ...</td>\n",
       "    </tr>\n",
       "    <tr>\n",
       "      <th>3</th>\n",
       "      <td>C[Si](C)(C)OC(=O)C(=O)[N+](=O)[O-]</td>\n",
       "      <td>[[14, 15, 16, 18, 25, 26, 27, 28, 29, 30, 31, ...</td>\n",
       "    </tr>\n",
       "    <tr>\n",
       "      <th>4</th>\n",
       "      <td>C[Si](C)(C)OOC(=O)C(=O)[N+](=O)[O-]</td>\n",
       "      <td>[[14, 15, 16, 25, 26, 27, 28, 29, 30, 31, 33, ...</td>\n",
       "    </tr>\n",
       "    <tr>\n",
       "      <th>...</th>\n",
       "      <td>...</td>\n",
       "      <td>...</td>\n",
       "    </tr>\n",
       "    <tr>\n",
       "      <th>166429</th>\n",
       "      <td>CC1(O[Si](C)(C)C)C(C(O[Si](C)(C)C)C(=O)OO[N+](...</td>\n",
       "      <td>[[14, 15, 16, 26, 27, 28, 29, 30, 31, 32, 39, ...</td>\n",
       "    </tr>\n",
       "    <tr>\n",
       "      <th>166430</th>\n",
       "      <td>CC1(O[Si](C)(C)C)C(C(C=O)O[Si](C)(C)C)OOC1(O[S...</td>\n",
       "      <td>[[2, 8, 14, 15, 18, 20, 26, 27, 28, 29, 30, 31...</td>\n",
       "    </tr>\n",
       "    <tr>\n",
       "      <th>166431</th>\n",
       "      <td>CC1(O[Si](C)(C)C)C(C(=O)C=O)OOC1(O[Si](C)(C)C)...</td>\n",
       "      <td>[[14, 15, 16, 18, 20, 25, 26, 27, 28, 29, 30, ...</td>\n",
       "    </tr>\n",
       "    <tr>\n",
       "      <th>166432</th>\n",
       "      <td>CC1(O[Si](C)(C)C)C(C(=O)OO[N+](=O)[O-])OOC1(O[...</td>\n",
       "      <td>[[14, 15, 26, 27, 28, 29, 30, 31, 32, 39, 41, ...</td>\n",
       "    </tr>\n",
       "    <tr>\n",
       "      <th>166433</th>\n",
       "      <td>CC1(O[Si](C)(C)C)C(C(C=O)OO[Si](C)(C)C)OOC1(O[...</td>\n",
       "      <td>[[30, 31, 39, 41, 43, 44, 45, 46, 47, 51, 52, ...</td>\n",
       "    </tr>\n",
       "  </tbody>\n",
       "</table>\n",
       "<p>166434 rows × 2 columns</p>\n",
       "</div>"
      ],
      "text/plain": [
       "                                                   SMILES  \\\n",
       "0                                                     C=O   \n",
       "1                                         O=C[N+](=O)[O-]   \n",
       "2                                    O=CC(=O)[N+](=O)[O-]   \n",
       "3                      C[Si](C)(C)OC(=O)C(=O)[N+](=O)[O-]   \n",
       "4                     C[Si](C)(C)OOC(=O)C(=O)[N+](=O)[O-]   \n",
       "...                                                   ...   \n",
       "166429  CC1(O[Si](C)(C)C)C(C(O[Si](C)(C)C)C(=O)OO[N+](...   \n",
       "166430  CC1(O[Si](C)(C)C)C(C(C=O)O[Si](C)(C)C)OOC1(O[S...   \n",
       "166431  CC1(O[Si](C)(C)C)C(C(=O)C=O)OOC1(O[Si](C)(C)C)...   \n",
       "166432  CC1(O[Si](C)(C)C)C(C(=O)OO[N+](=O)[O-])OOC1(O[...   \n",
       "166433  CC1(O[Si](C)(C)C)C(C(C=O)OO[Si](C)(C)C)OOC1(O[...   \n",
       "\n",
       "                                                     spec  \n",
       "0       [[14, 15, 16, 18, 19, 25, 26, 27, 28, 29, 30, ...  \n",
       "1       [[14, 16, 17, 18, 19, 27, 28, 29, 30, 31, 32, ...  \n",
       "2       [[14, 15, 16, 17, 18, 19, 25, 27, 28, 29, 30, ...  \n",
       "3       [[14, 15, 16, 18, 25, 26, 27, 28, 29, 30, 31, ...  \n",
       "4       [[14, 15, 16, 25, 26, 27, 28, 29, 30, 31, 33, ...  \n",
       "...                                                   ...  \n",
       "166429  [[14, 15, 16, 26, 27, 28, 29, 30, 31, 32, 39, ...  \n",
       "166430  [[2, 8, 14, 15, 18, 20, 26, 27, 28, 29, 30, 31...  \n",
       "166431  [[14, 15, 16, 18, 20, 25, 26, 27, 28, 29, 30, ...  \n",
       "166432  [[14, 15, 26, 27, 28, 29, 30, 31, 32, 39, 41, ...  \n",
       "166433  [[30, 31, 39, 41, 43, 44, 45, 46, 47, 51, 52, ...  \n",
       "\n",
       "[166434 rows x 2 columns]"
      ]
     },
     "execution_count": 28,
     "metadata": {},
     "output_type": "execute_result"
    }
   ],
   "source": [
    "with open('../data/neims/df_neims_gecko_TMS.pkl', 'rb') as file:\n",
    "    df = pkl.load(file)\n",
    "df"
   ]
  },
  {
   "cell_type": "code",
   "execution_count": 29,
   "id": "83f2cf6a",
   "metadata": {},
   "outputs": [],
   "source": [
    "df['mol'] = df['SMILES'].apply(MolFromSmiles)"
   ]
  },
  {
   "cell_type": "code",
   "execution_count": 30,
   "id": "3ebcc7a9",
   "metadata": {},
   "outputs": [
    {
     "data": {
      "text/plain": [
       "'from rdkit import DataStructs\\nmorgan_generator = rdFingerprintGenerator.GetMorganGenerator(radius=2,fpSize=2048)\\nfrom tqdm import tqdm\\nfps = [morgan_generator.GetFingerprint(mol) for mol in tqdm(df[\\'mol\\'].values, desc=\"Generating fingerprints\")]\\n \\nnum_dupes = 0 # 306\\nn = len(fps)\\nfor i in tqdm(range(n), desc=\"Finding duplicates\"):\\n    sims = BulkTanimotoSimilarity(fps[i], fps[i+1:])  # vectorized similarity to rest\\n    num_dupes += sum(1 for sim in sims if sim == 1.0)\\nprint(num_dupes)\\n'"
      ]
     },
     "execution_count": 30,
     "metadata": {},
     "output_type": "execute_result"
    }
   ],
   "source": [
    "'''from rdkit import DataStructs\n",
    "morgan_generator = rdFingerprintGenerator.GetMorganGenerator(radius=2,fpSize=2048)\n",
    "from tqdm import tqdm\n",
    "fps = [morgan_generator.GetFingerprint(mol) for mol in tqdm(df['mol'].values, desc=\"Generating fingerprints\")]\n",
    " \n",
    "num_dupes = 0 # 306\n",
    "n = len(fps)\n",
    "for i in tqdm(range(n), desc=\"Finding duplicates\"):\n",
    "    sims = BulkTanimotoSimilarity(fps[i], fps[i+1:])  # vectorized similarity to rest\n",
    "    num_dupes += sum(1 for sim in sims if sim == 1.0)\n",
    "print(num_dupes)\n",
    "'''"
   ]
  },
  {
   "cell_type": "code",
   "execution_count": 31,
   "id": "a356f5a3",
   "metadata": {},
   "outputs": [],
   "source": [
    "df.index.name = 'name'"
   ]
  },
  {
   "cell_type": "code",
   "execution_count": 32,
   "id": "4ad17170",
   "metadata": {},
   "outputs": [],
   "source": [
    "df_len = len(df)\n",
    "num_train_val_test = (round(train_p * df_len), round(val_p * df_len), round(test_p * df_len))\n",
    "assert sum(num_train_val_test) == len(df)\n",
    "trains = np.full(num_train_val_test[0], 'train')\n",
    "vals = np.full(num_train_val_test[1], 'val')\n",
    "tests = np.full(num_train_val_test[2], 'test')\n",
    "split = np.hstack([trains, vals, tests])\n",
    "np.random.shuffle(split)\n",
    "df['split'] = split"
   ]
  },
  {
   "cell_type": "code",
   "execution_count": null,
   "id": "7f4c59f4",
   "metadata": {},
   "outputs": [],
   "source": [
    "df.drop(columns=['spec', 'SMILES', 'mol']).to_csv('../data/neims/split.tsv', sep='\\t')"
   ]
  }
 ],
 "metadata": {
  "kernelspec": {
   "display_name": "diffms",
   "language": "python",
   "name": "python3"
  },
  "language_info": {
   "codemirror_mode": {
    "name": "ipython",
    "version": 3
   },
   "file_extension": ".py",
   "mimetype": "text/x-python",
   "name": "python",
   "nbconvert_exporter": "python",
   "pygments_lexer": "ipython3",
   "version": "3.9.22"
  }
 },
 "nbformat": 4,
 "nbformat_minor": 5
}
