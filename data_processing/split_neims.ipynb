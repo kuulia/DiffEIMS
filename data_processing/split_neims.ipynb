{
 "cells": [
  {
   "cell_type": "code",
   "execution_count": 12,
   "id": "faafe8f0",
   "metadata": {},
   "outputs": [],
   "source": [
    "import pandas as pd\n",
    "import numpy as np\n",
    "np.random.seed(42)"
   ]
  },
  {
   "cell_type": "code",
   "execution_count": 13,
   "id": "d160b6b6",
   "metadata": {},
   "outputs": [],
   "source": [
    "# Load the labels.tsv file\n",
    "labels = pd.read_csv('../data/neims/labels.tsv', sep='\\t')\n"
   ]
  },
  {
   "cell_type": "code",
   "execution_count": 14,
   "id": "7f620e7f",
   "metadata": {},
   "outputs": [],
   "source": [
    "split_proportions = {\n",
    "    'train': 0.8399638258100249,\n",
    "    'val': 0.08407037524231514,\n",
    "    'test': 0.07596579894765992\n",
    "}"
   ]
  },
  {
   "cell_type": "code",
   "execution_count": 15,
   "id": "d6da611c",
   "metadata": {},
   "outputs": [],
   "source": [
    "shuffled = labels.sample(frac=1, random_state=42).reset_index(drop=True)"
   ]
  },
  {
   "cell_type": "code",
   "execution_count": 16,
   "id": "330a96a1",
   "metadata": {},
   "outputs": [],
   "source": [
    "# Calculate split sizes\n",
    "n = len(shuffled)\n",
    "n_train = int(split_proportions['train'] * n)\n",
    "n_val = int(split_proportions['val'] * n)\n",
    "n_test = n - n_train - n_val  # Make sure all samples are used"
   ]
  },
  {
   "cell_type": "code",
   "execution_count": 17,
   "id": "7ef55360",
   "metadata": {},
   "outputs": [],
   "source": [
    "split_labels = ['train'] * n_train + ['val'] * n_val + ['test'] * n_test\n",
    "shuffled['split'] = split_labels"
   ]
  },
  {
   "cell_type": "code",
   "execution_count": 18,
   "id": "389e0d3c",
   "metadata": {},
   "outputs": [],
   "source": [
    "# Create the split.tsv DataFrame\n",
    "split_df = shuffled[['spec', 'split']].rename(columns={'spec': 'name'})"
   ]
  },
  {
   "cell_type": "code",
   "execution_count": 19,
   "id": "0c603e6c",
   "metadata": {},
   "outputs": [],
   "source": [
    "split_df.to_csv('split.tsv', sep='\\t', index=False)"
   ]
  }
 ],
 "metadata": {
  "kernelspec": {
   "display_name": "diffms",
   "language": "python",
   "name": "python3"
  },
  "language_info": {
   "codemirror_mode": {
    "name": "ipython",
    "version": 3
   },
   "file_extension": ".py",
   "mimetype": "text/x-python",
   "name": "python",
   "nbconvert_exporter": "python",
   "pygments_lexer": "ipython3",
   "version": "3.9.22"
  }
 },
 "nbformat": 4,
 "nbformat_minor": 5
}
